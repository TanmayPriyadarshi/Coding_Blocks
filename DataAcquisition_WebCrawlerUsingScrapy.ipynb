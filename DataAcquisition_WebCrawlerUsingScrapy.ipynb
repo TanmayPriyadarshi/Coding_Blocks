{
  "nbformat": 4,
  "nbformat_minor": 0,
  "metadata": {
    "kernelspec": {
      "display_name": "Python 3",
      "language": "python",
      "name": "python3"
    },
    "language_info": {
      "codemirror_mode": {
        "name": "ipython",
        "version": 3
      },
      "file_extension": ".py",
      "mimetype": "text/x-python",
      "name": "python",
      "nbconvert_exporter": "python",
      "pygments_lexer": "ipython3",
      "version": "3.7.4"
    },
    "colab": {
      "name": "DataAcquisition-WebCrawlerUsingScrapy.ipynb",
      "provenance": [],
      "include_colab_link": true
    }
  },
  "cells": [
    {
      "cell_type": "markdown",
      "metadata": {
        "id": "view-in-github",
        "colab_type": "text"
      },
      "source": [
        "<a href=\"https://colab.research.google.com/github/TanmayPriyadarshi/Coding_Blocks/blob/master/DataAcquisition_WebCrawlerUsingScrapy.ipynb\" target=\"_parent\"><img src=\"https://colab.research.google.com/assets/colab-badge.svg\" alt=\"Open In Colab\"/></a>"
      ]
    },
    {
      "cell_type": "markdown",
      "metadata": {
        "id": "vc_apT52r478",
        "colab_type": "text"
      },
      "source": [
        "# Scrapy--Getting Starting with Web Crawler"
      ]
    },
    {
      "cell_type": "markdown",
      "metadata": {
        "id": "2zCYiA5tr47_",
        "colab_type": "text"
      },
      "source": [
        "# Scrapy --> It is defined as an open source and collaborative framework for extracting the data you need from websites...."
      ]
    },
    {
      "cell_type": "markdown",
      "metadata": {
        "id": "iwGY1_xMr48A",
        "colab_type": "text"
      },
      "source": [
        "# To work with scrapy you should be familier with the project structure it uses as well as you need to create scrapy project before you begin with the scraping of the websites."
      ]
    },
    {
      "cell_type": "markdown",
      "metadata": {
        "id": "2n6G_XVtr48B",
        "colab_type": "text"
      },
      "source": [
        "# To create scrapy based project we need to fire this command in jupyter....\n",
        "# !scrapy startproject \"your project name\""
      ]
    },
    {
      "cell_type": "code",
      "metadata": {
        "id": "oJQBopSCr48C",
        "colab_type": "code",
        "colab": {},
        "outputId": "4481ab61-9b84-4774-a6af-37bd673604d8"
      },
      "source": [
        "!scrapy startproject myproject"
      ],
      "execution_count": 0,
      "outputs": [
        {
          "output_type": "stream",
          "text": [
            "New Scrapy project 'myproject', using template directory '/Users/tanmaypriyadarshi/opt/anaconda3/lib/python3.7/site-packages/scrapy/templates/project', created in:\r\n",
            "    /Users/tanmaypriyadarshi/Desktop/Untitled Folder/myproject\r\n",
            "\r\n",
            "You can start your first spider with:\r\n",
            "    cd myproject\r\n",
            "    scrapy genspider example example.com\r\n"
          ],
          "name": "stdout"
        }
      ]
    },
    {
      "cell_type": "markdown",
      "metadata": {
        "id": "VNNM38ckr48H",
        "colab_type": "text"
      },
      "source": [
        "# Scrapy -- creating Our 1st Spider"
      ]
    },
    {
      "cell_type": "markdown",
      "metadata": {
        "id": "uDtdjFOVr48I",
        "colab_type": "text"
      },
      "source": [
        "# Now you might be thinking that what is spider and all that terms we were talking about.....let's take some time to talk about it.....\n",
        "# What is a Spider?"
      ]
    },
    {
      "cell_type": "markdown",
      "metadata": {
        "id": "rQnTKqKer48J",
        "colab_type": "text"
      },
      "source": [
        "# Answer to the above question is here you go:--->\n",
        "\n",
        "# Spiders are the classes that you define and that scrapy uses to scrape info. from the websites....\n",
        "# Spider classes must be the sub-class of scrapy.Spider and \n",
        "# define the initial requests to make ,\n",
        "# optionally how to follow links in the pages and how to parse the downloaded page content to extract data."
      ]
    },
    {
      "cell_type": "code",
      "metadata": {
        "id": "OQnn2QoJr48K",
        "colab_type": "code",
        "colab": {}
      },
      "source": [
        "http://quotes.toscrape.com/"
      ],
      "execution_count": 0,
      "outputs": []
    },
    {
      "cell_type": "code",
      "metadata": {
        "id": "kHFHIcjfr48N",
        "colab_type": "code",
        "colab": {}
      },
      "source": [
        ""
      ],
      "execution_count": 0,
      "outputs": []
    }
  ]
}