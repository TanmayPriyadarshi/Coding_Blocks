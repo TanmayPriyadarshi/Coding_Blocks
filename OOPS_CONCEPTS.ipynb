{
  "nbformat": 4,
  "nbformat_minor": 0,
  "metadata": {
    "kernelspec": {
      "display_name": "Python 3",
      "language": "python",
      "name": "python3"
    },
    "language_info": {
      "codemirror_mode": {
        "name": "ipython",
        "version": 3
      },
      "file_extension": ".py",
      "mimetype": "text/x-python",
      "name": "python",
      "nbconvert_exporter": "python",
      "pygments_lexer": "ipython3",
      "version": "3.7.4"
    },
    "colab": {
      "name": "OOPS CONCEPTS.ipynb",
      "provenance": [],
      "include_colab_link": true
    }
  },
  "cells": [
    {
      "cell_type": "markdown",
      "metadata": {
        "id": "view-in-github",
        "colab_type": "text"
      },
      "source": [
        "<a href=\"https://colab.research.google.com/github/TanmayPriyadarshi/Coding_Blocks/blob/master/OOPS_CONCEPTS.ipynb\" target=\"_parent\"><img src=\"https://colab.research.google.com/assets/colab-badge.svg\" alt=\"Open In Colab\"/></a>"
      ]
    },
    {
      "cell_type": "markdown",
      "metadata": {
        "id": "sXPDEdyFtJF2",
        "colab_type": "text"
      },
      "source": [
        " # This Notes contains the Basic of OOPS--Object Oriented Programming Concepts In Python......So let's get started....."
      ]
    },
    {
      "cell_type": "markdown",
      "metadata": {
        "id": "40kpwYz3tJF5",
        "colab_type": "text"
      },
      "source": [
        "# Whenever you have heard of OOPs concept you always have come across the terms Classes and Objects......"
      ]
    },
    {
      "cell_type": "markdown",
      "metadata": {
        "id": "KUQh9qtGtJF6",
        "colab_type": "text"
      },
      "source": [
        "# Rather you have heard these terms very frequent and more to it as together...."
      ]
    },
    {
      "cell_type": "markdown",
      "metadata": {
        "id": "nWYci0iVtJF7",
        "colab_type": "text"
      },
      "source": [
        "# Let's get started with the definition of the class..."
      ]
    },
    {
      "cell_type": "markdown",
      "metadata": {
        "id": "_E200Gs4tJF8",
        "colab_type": "text"
      },
      "source": [
        "# Python is an object oriented programming language. Almost everything in Python is an object, with its properties and methods."
      ]
    },
    {
      "cell_type": "markdown",
      "metadata": {
        "id": "kuSZHJ5utJF9",
        "colab_type": "text"
      },
      "source": [
        "# Class is a user defined blueprint or prototype from which objects are created. It represents the set of properties or methods that are common to all objects"
      ]
    },
    {
      "cell_type": "markdown",
      "metadata": {
        "id": "3SxjI-fetJF-",
        "colab_type": "text"
      },
      "source": [
        "# Similarly Object is defined as following...."
      ]
    },
    {
      "cell_type": "markdown",
      "metadata": {
        "id": "3I2RfYXPtJF_",
        "colab_type": "text"
      },
      "source": [
        "# Object is defined as an identifiable entity with some specific characteristics and behaviour.Where characteristics are nothing but data member and behaviour is nothing but the member function or simply speaking methods....."
      ]
    },
    {
      "cell_type": "markdown",
      "metadata": {
        "id": "b9WcE0kJtJGA",
        "colab_type": "text"
      },
      "source": [
        "# Now we are going to have some of the real life example of how you create class and object in python so let's go...."
      ]
    },
    {
      "cell_type": "markdown",
      "metadata": {
        "id": "L1UHJxfPtJGB",
        "colab_type": "text"
      },
      "source": [
        "# Prior to the definition of the class you should know that class is defined using class keyword and the body of the class where you define its attributes and methods are called as suite space of the class.....Now we are good to go...."
      ]
    },
    {
      "cell_type": "code",
      "metadata": {
        "id": "GwHn9k4ttJGC",
        "colab_type": "code",
        "colab": {}
      },
      "source": [
        "class Computer:\n",
        "    # this entire area is called as suite...\n",
        "    #class variable or static variable is defined outside the member function(s) or a special function(constructor)\n",
        "    #While we define instance variable within constructor.....\n",
        "    def config(self):\n",
        "        print(\"i5 8gb 256gb\")\n",
        "        "
      ],
      "execution_count": 0,
      "outputs": []
    },
    {
      "cell_type": "code",
      "metadata": {
        "id": "o1v-A8FgtJGG",
        "colab_type": "code",
        "colab": {},
        "outputId": "cdec1983-4374-4e0a-ed7f-96d59b638344"
      },
      "source": [
        "comp1 = Computer()\n",
        "print(type(comp1))"
      ],
      "execution_count": 0,
      "outputs": [
        {
          "output_type": "stream",
          "text": [
            "<class '__main__.Computer'>\n"
          ],
          "name": "stdout"
        }
      ]
    },
    {
      "cell_type": "code",
      "metadata": {
        "id": "2rLwv9wptJGJ",
        "colab_type": "code",
        "colab": {},
        "outputId": "deef26b8-e84a-4e66-e83f-43b86ee96009"
      },
      "source": [
        "Computer.config()"
      ],
      "execution_count": 0,
      "outputs": [
        {
          "output_type": "error",
          "ename": "TypeError",
          "evalue": "config() missing 1 required positional argument: 'self'",
          "traceback": [
            "\u001b[0;31m---------------------------------------------------------------------------\u001b[0m",
            "\u001b[0;31mTypeError\u001b[0m                                 Traceback (most recent call last)",
            "\u001b[0;32m<ipython-input-6-07e4ea2669b5>\u001b[0m in \u001b[0;36m<module>\u001b[0;34m\u001b[0m\n\u001b[0;32m----> 1\u001b[0;31m \u001b[0mComputer\u001b[0m\u001b[0;34m.\u001b[0m\u001b[0mconfig\u001b[0m\u001b[0;34m(\u001b[0m\u001b[0;34m)\u001b[0m\u001b[0;34m\u001b[0m\u001b[0;34m\u001b[0m\u001b[0m\n\u001b[0m",
            "\u001b[0;31mTypeError\u001b[0m: config() missing 1 required positional argument: 'self'"
          ]
        }
      ]
    },
    {
      "cell_type": "markdown",
      "metadata": {
        "id": "hezRX_vqtJGN",
        "colab_type": "text"
      },
      "source": [
        "# Now as you can see that when we tried to call config function it is showing some error that is config() is missing 1 argument 'self'......the concept that applies over here is that config function is non static function so it need the instance as 1st parameter that is conpulsary when you are calling it using className.function name or you can directly call non static function using the object of that class which will automatically pass that object as 1st parameter for you......  "
      ]
    },
    {
      "cell_type": "code",
      "metadata": {
        "id": "edJU5Ee2tJGO",
        "colab_type": "code",
        "colab": {},
        "outputId": "7e470325-a935-4829-de5a-14dc1035aeb1"
      },
      "source": [
        "Computer.config(comp1)"
      ],
      "execution_count": 0,
      "outputs": [
        {
          "output_type": "stream",
          "text": [
            "i5 8gb 256gb\n"
          ],
          "name": "stdout"
        }
      ]
    },
    {
      "cell_type": "code",
      "metadata": {
        "id": "sR_KhrWctJGS",
        "colab_type": "code",
        "colab": {},
        "outputId": "169fab66-112c-42a3-9e9d-dd7aac949067"
      },
      "source": [
        "# ALITER\n",
        "comp1.config()"
      ],
      "execution_count": 0,
      "outputs": [
        {
          "output_type": "stream",
          "text": [
            "i5 8gb 256gb\n"
          ],
          "name": "stdout"
        }
      ]
    },
    {
      "cell_type": "markdown",
      "metadata": {
        "id": "GIobTIr_tJGW",
        "colab_type": "text"
      },
      "source": [
        "# In python we use the second way to call methods....."
      ]
    },
    {
      "cell_type": "markdown",
      "metadata": {
        "id": "h30lgha3tJGY",
        "colab_type": "text"
      },
      "source": [
        "# Now let's begin with concept of the __init__() and the concept of self and data member....In here I'll be seeing data members 1st"
      ]
    },
    {
      "cell_type": "markdown",
      "metadata": {
        "id": "gsXfo_gXtJGZ",
        "colab_type": "text"
      },
      "source": [
        "# In python also there are 2 types of data members.....1)class/static variable 2)Instance/non-static variable.....former is defined immediately after the class definition and not inside any of the member function....while later is defined in the __init__() which is nothing but the constructor in case of the python......."
      ]
    },
    {
      "cell_type": "markdown",
      "metadata": {
        "id": "BxTVa9HAtJGZ",
        "colab_type": "text"
      },
      "source": [
        "# concept of self.....till now you have seen that in case of the methods or of special member function/__init__() we have compulsary parameter which is non other than self--->which is a kind of mimic of this keyword in java which tries to represent current object which is calling the member function/method of that class....And one thing that you have to note that at the time of calling methods....if you are using 2nd way of calling then your object which yopu are using is automatically passed as 1st parameter i.e. self ....."
      ]
    },
    {
      "cell_type": "markdown",
      "metadata": {
        "id": "N__2Xun5tJGb",
        "colab_type": "text"
      },
      "source": [
        "# Now the last concept is of __init__()--->As in java we have special member function with the same name as that of the class name and which is invoked when the object of that class is instantiate....in the same way we have __init__() in python for serving the same purpose....Now in python we we use it somewhat differently that is.... If you want to define Non static /instance variable in python then in that case you need to define it as other parameter of that __init__() and use self .variableName to assign the value to that instance variable....that is all concept you need to now to use __init__()"
      ]
    },
    {
      "cell_type": "code",
      "metadata": {
        "id": "wvBqEOnltJGc",
        "colab_type": "code",
        "colab": {}
      },
      "source": [
        "class Computer1:\n",
        "    def __init__(self,cpu,ram):\n",
        "        self.cpu = cpu\n",
        "        self.ram = ram\n",
        "        print('in init()')\n",
        "    def config(self):\n",
        "        print(\"Config is = \",cpu,ram)"
      ],
      "execution_count": 0,
      "outputs": []
    },
    {
      "cell_type": "code",
      "metadata": {
        "id": "5i0hcqljtJGg",
        "colab_type": "code",
        "colab": {},
        "outputId": "857cee9b-5a8d-4843-ef49-d467ac99ece9"
      },
      "source": [
        "comp1 = Computer1('i5','8GB')\n",
        "comp2 = Computer1('i3','4GB')\n",
        "comp1.config()\n",
        "comp2.config()"
      ],
      "execution_count": 0,
      "outputs": [
        {
          "output_type": "stream",
          "text": [
            "in init()\n",
            "in init()\n"
          ],
          "name": "stdout"
        },
        {
          "output_type": "error",
          "ename": "NameError",
          "evalue": "name 'cpu' is not defined",
          "traceback": [
            "\u001b[0;31m---------------------------------------------------------------------------\u001b[0m",
            "\u001b[0;31mNameError\u001b[0m                                 Traceback (most recent call last)",
            "\u001b[0;32m<ipython-input-11-534d580838b4>\u001b[0m in \u001b[0;36m<module>\u001b[0;34m\u001b[0m\n\u001b[1;32m      1\u001b[0m \u001b[0mcomp1\u001b[0m \u001b[0;34m=\u001b[0m \u001b[0mComputer1\u001b[0m\u001b[0;34m(\u001b[0m\u001b[0;34m'i5'\u001b[0m\u001b[0;34m,\u001b[0m\u001b[0;34m'8GB'\u001b[0m\u001b[0;34m)\u001b[0m\u001b[0;34m\u001b[0m\u001b[0;34m\u001b[0m\u001b[0m\n\u001b[1;32m      2\u001b[0m \u001b[0mcomp2\u001b[0m \u001b[0;34m=\u001b[0m \u001b[0mComputer1\u001b[0m\u001b[0;34m(\u001b[0m\u001b[0;34m'i3'\u001b[0m\u001b[0;34m,\u001b[0m\u001b[0;34m'4GB'\u001b[0m\u001b[0;34m)\u001b[0m\u001b[0;34m\u001b[0m\u001b[0;34m\u001b[0m\u001b[0m\n\u001b[0;32m----> 3\u001b[0;31m \u001b[0mcomp1\u001b[0m\u001b[0;34m.\u001b[0m\u001b[0mconfig\u001b[0m\u001b[0;34m(\u001b[0m\u001b[0;34m)\u001b[0m\u001b[0;34m\u001b[0m\u001b[0;34m\u001b[0m\u001b[0m\n\u001b[0m\u001b[1;32m      4\u001b[0m \u001b[0mcomp2\u001b[0m\u001b[0;34m.\u001b[0m\u001b[0mconfig\u001b[0m\u001b[0;34m(\u001b[0m\u001b[0;34m)\u001b[0m\u001b[0;34m\u001b[0m\u001b[0;34m\u001b[0m\u001b[0m\n",
            "\u001b[0;32m<ipython-input-10-55857e29dcc8>\u001b[0m in \u001b[0;36mconfig\u001b[0;34m(self)\u001b[0m\n\u001b[1;32m      5\u001b[0m         \u001b[0mprint\u001b[0m\u001b[0;34m(\u001b[0m\u001b[0;34m'in init()'\u001b[0m\u001b[0;34m)\u001b[0m\u001b[0;34m\u001b[0m\u001b[0;34m\u001b[0m\u001b[0m\n\u001b[1;32m      6\u001b[0m     \u001b[0;32mdef\u001b[0m \u001b[0mconfig\u001b[0m\u001b[0;34m(\u001b[0m\u001b[0mself\u001b[0m\u001b[0;34m)\u001b[0m\u001b[0;34m:\u001b[0m\u001b[0;34m\u001b[0m\u001b[0;34m\u001b[0m\u001b[0m\n\u001b[0;32m----> 7\u001b[0;31m         \u001b[0mprint\u001b[0m\u001b[0;34m(\u001b[0m\u001b[0;34m\"Config is = \"\u001b[0m\u001b[0;34m,\u001b[0m\u001b[0mcpu\u001b[0m\u001b[0;34m,\u001b[0m\u001b[0mram\u001b[0m\u001b[0;34m)\u001b[0m\u001b[0;34m\u001b[0m\u001b[0;34m\u001b[0m\u001b[0m\n\u001b[0m",
            "\u001b[0;31mNameError\u001b[0m: name 'cpu' is not defined"
          ]
        }
      ]
    },
    {
      "cell_type": "code",
      "metadata": {
        "id": "DhBMThEOtJGq",
        "colab_type": "code",
        "colab": {}
      },
      "source": [
        "class Computer1:\n",
        "    def __init__(self,cpu,ram):\n",
        "        self.cpu = cpu\n",
        "        self.ram = ram\n",
        "        print('in init()')\n",
        "    def config(self):\n",
        "        print(\"Config is = \",self.cpu,self.ram)#notice the self. with the variable name...."
      ],
      "execution_count": 0,
      "outputs": []
    },
    {
      "cell_type": "code",
      "metadata": {
        "id": "gvG1O2D5tJGs",
        "colab_type": "code",
        "colab": {},
        "outputId": "75a1712c-218f-4a26-e325-b94d2bc6361b"
      },
      "source": [
        "comp1 = Computer1('i5','8GB')\n",
        "comp2 = Computer1('i3','4GB')\n",
        "comp1.config()\n",
        "comp2.config()"
      ],
      "execution_count": 0,
      "outputs": [
        {
          "output_type": "stream",
          "text": [
            "in init()\n",
            "in init()\n",
            "Config is =  i5 8GB\n",
            "Config is =  i3 4GB\n"
          ],
          "name": "stdout"
        }
      ]
    },
    {
      "cell_type": "markdown",
      "metadata": {
        "id": "lBFXQle-tJGv",
        "colab_type": "text"
      },
      "source": [
        "# The 1st and 2nd line simply conclude to the fact that as soon as object of the class is instantiated and __init__() will be automatically called and so the variable within that will be automatically initiated...."
      ]
    },
    {
      "cell_type": "markdown",
      "metadata": {
        "id": "SLlWAKkjtJGw",
        "colab_type": "text"
      },
      "source": [
        "# 3rd and 4th line confirms to the fact that the variable defined within the __init__() is instance variable  and its value will be differ based upon the object that is used to call that function....."
      ]
    },
    {
      "cell_type": "markdown",
      "metadata": {
        "id": "QnrOXOJ8tJGx",
        "colab_type": "text"
      },
      "source": [
        "# Now after this we will be discussing important concept of constructor,self and comparing object...."
      ]
    },
    {
      "cell_type": "markdown",
      "metadata": {
        "id": "srYMs-GJtJGy",
        "colab_type": "text"
      },
      "source": [
        "# Every time you create an object it will acquire different space in heap memory...."
      ]
    },
    {
      "cell_type": "code",
      "metadata": {
        "id": "YBM6uOxntJGy",
        "colab_type": "code",
        "colab": {},
        "outputId": "0a41e467-cbe5-40d0-cbf2-0fc3c21d1496"
      },
      "source": [
        "print(id(comp1))\n",
        "print(id(comp2))"
      ],
      "execution_count": 0,
      "outputs": [
        {
          "output_type": "stream",
          "text": [
            "4537127432\n",
            "4537127656\n"
          ],
          "name": "stdout"
        }
      ]
    },
    {
      "cell_type": "markdown",
      "metadata": {
        "id": "oCfdWi2ttJG3",
        "colab_type": "text"
      },
      "source": [
        "# Now here you can easily notice that the both the object comp1 and comp2 will have different address in heap memory everytime it being created or re-executed"
      ]
    },
    {
      "cell_type": "code",
      "metadata": {
        "id": "Pu8oxdHCtJG4",
        "colab_type": "code",
        "colab": {}
      },
      "source": [
        ""
      ],
      "execution_count": 0,
      "outputs": []
    }
  ]
}