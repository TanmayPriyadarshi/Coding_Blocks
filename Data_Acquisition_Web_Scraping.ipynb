{
  "nbformat": 4,
  "nbformat_minor": 0,
  "metadata": {
    "kernelspec": {
      "display_name": "Python 3",
      "language": "python",
      "name": "python3"
    },
    "language_info": {
      "codemirror_mode": {
        "name": "ipython",
        "version": 3
      },
      "file_extension": ".py",
      "mimetype": "text/x-python",
      "name": "python",
      "nbconvert_exporter": "python",
      "pygments_lexer": "ipython3",
      "version": "3.7.4"
    },
    "colab": {
      "name": "Data Acquisition- Web Scraping.ipynb",
      "provenance": [],
      "include_colab_link": true
    }
  },
  "cells": [
    {
      "cell_type": "markdown",
      "metadata": {
        "id": "view-in-github",
        "colab_type": "text"
      },
      "source": [
        "<a href=\"https://colab.research.google.com/github/TanmayPriyadarshi/Coding_Blocks/blob/master/Data_Acquisition_Web_Scraping.ipynb\" target=\"_parent\"><img src=\"https://colab.research.google.com/assets/colab-badge.svg\" alt=\"Open In Colab\"/></a>"
      ]
    },
    {
      "cell_type": "markdown",
      "metadata": {
        "id": "WNITCH1irJSK",
        "colab_type": "text"
      },
      "source": [
        "# Data Aquisition - Web Scraping"
      ]
    },
    {
      "cell_type": "markdown",
      "metadata": {
        "id": "etNqEBISrJSN",
        "colab_type": "text"
      },
      "source": [
        "# Web Scraping 01 - Fetching Data Using Beautiful Soup"
      ]
    },
    {
      "cell_type": "code",
      "metadata": {
        "id": "BOh_woZRrJSO",
        "colab_type": "code",
        "colab": {},
        "outputId": "158db6e5-24c2-4178-a3f5-c7ed4fe85560"
      },
      "source": [
        "!pip install bs4"
      ],
      "execution_count": 0,
      "outputs": [
        {
          "output_type": "stream",
          "text": [
            "Collecting bs4\n",
            "  Downloading https://files.pythonhosted.org/packages/10/ed/7e8b97591f6f456174139ec089c769f89a94a1a4025fe967691de971f314/bs4-0.0.1.tar.gz\n",
            "Requirement already satisfied: beautifulsoup4 in /Users/tanmaypriyadarshi/opt/anaconda3/lib/python3.7/site-packages (from bs4) (4.8.0)\n",
            "Requirement already satisfied: soupsieve>=1.2 in /Users/tanmaypriyadarshi/opt/anaconda3/lib/python3.7/site-packages (from beautifulsoup4->bs4) (1.9.3)\n",
            "Building wheels for collected packages: bs4\n",
            "  Building wheel for bs4 (setup.py) ... \u001b[?25ldone\n",
            "\u001b[?25h  Created wheel for bs4: filename=bs4-0.0.1-cp37-none-any.whl size=1273 sha256=1bffdc09a54da765b1e6f45925e0885f045c3fb6a7d27833e288033847a96d22\n",
            "  Stored in directory: /Users/tanmaypriyadarshi/Library/Caches/pip/wheels/a0/b0/b2/4f80b9456b87abedbc0bf2d52235414c3467d8889be38dd472\n",
            "Successfully built bs4\n",
            "Installing collected packages: bs4\n",
            "Successfully installed bs4-0.0.1\n"
          ],
          "name": "stdout"
        }
      ]
    },
    {
      "cell_type": "markdown",
      "metadata": {
        "id": "MWqGpWN6rJST",
        "colab_type": "text"
      },
      "source": [
        "# There are multiple ways to grab or acquire or buy data. One such way is scraping data from the internet...."
      ]
    },
    {
      "cell_type": "code",
      "metadata": {
        "id": "ySZEcgmyrJSU",
        "colab_type": "code",
        "colab": {}
      },
      "source": [
        "from urllib.request import urlopen"
      ],
      "execution_count": 0,
      "outputs": []
    },
    {
      "cell_type": "markdown",
      "metadata": {
        "id": "XBawpbTTrJSW",
        "colab_type": "text"
      },
      "source": [
        "# urllib.request is a module that is present in the python which consist of a function named as urlopen() which is used to open web page that consist of data that you want to extract from the web"
      ]
    },
    {
      "cell_type": "markdown",
      "metadata": {
        "id": "Nu9024rDrJSX",
        "colab_type": "text"
      },
      "source": [
        "# While urlopen() return the HttpResponse object which consist of header ,success or failure message and finally the HTML content of the web page which you want to visit"
      ]
    },
    {
      "cell_type": "markdown",
      "metadata": {
        "id": "bd00MyoXrJSY",
        "colab_type": "text"
      },
      "source": [
        "# Now if you want to read the HTML content which is brought by the urlopen() then you have to use the another function named as read()"
      ]
    },
    {
      "cell_type": "markdown",
      "metadata": {
        "id": "Lri_54hfrJSZ",
        "colab_type": "text"
      },
      "source": [
        "# Now one thing that you have to note that the content that is brought by the urlopen() is in raw format now you have to beautify it using beautifulsoup module of the python"
      ]
    },
    {
      "cell_type": "markdown",
      "metadata": {
        "id": "WfG0RcUkrJSa",
        "colab_type": "text"
      },
      "source": [
        "# For that reason in case you have to install beasutifulSoup module in python either using pip installer or ! installer as in anaconda"
      ]
    },
    {
      "cell_type": "markdown",
      "metadata": {
        "id": "_17yiq2ZrJSb",
        "colab_type": "text"
      },
      "source": [
        "# Now to indentate HTML content in human readable format for that you have to use beautifulsoup module of the python and more importantly soup() in specific-----> NOw you get to know that the return from the urlopen() is raw and you use read() to read the HTML content only and finally you give this output of the read() to the soup() in-order to make it human readable....."
      ]
    },
    {
      "cell_type": "markdown",
      "metadata": {
        "id": "Cs7SJLoorJSb",
        "colab_type": "text"
      },
      "source": [
        "# So the working pattern is just like this .....\n",
        "\n",
        "# 0.) use from urllib.request import urlopen\n",
        "# 1.) use urlopen()\n",
        "# 2.) use read()\n",
        "# 3.) use from bs4 import BeautifulSoup as soup\n",
        "# 4.) use soup()"
      ]
    },
    {
      "cell_type": "code",
      "metadata": {
        "id": "TIOxwtjprJSc",
        "colab_type": "code",
        "colab": {}
      },
      "source": [
        "android_url = \"https://en.wikipedia.org/wiki/Android_version_history\""
      ],
      "execution_count": 0,
      "outputs": []
    },
    {
      "cell_type": "code",
      "metadata": {
        "id": "eSwgPmEMrJSf",
        "colab_type": "code",
        "colab": {},
        "outputId": "8220f2f0-dd83-460c-e67d-314abc808292"
      },
      "source": [
        "android_data = urlopen(android_url)\n",
        "print(type(android_data))"
      ],
      "execution_count": 0,
      "outputs": [
        {
          "output_type": "stream",
          "text": [
            "<class 'http.client.HTTPResponse'>\n"
          ],
          "name": "stdout"
        }
      ]
    },
    {
      "cell_type": "code",
      "metadata": {
        "id": "Z80vXUNTrJSi",
        "colab_type": "code",
        "colab": {}
      },
      "source": [
        "android_html = android_data.read()"
      ],
      "execution_count": 0,
      "outputs": []
    },
    {
      "cell_type": "code",
      "metadata": {
        "id": "-qnfUuJ_rJSl",
        "colab_type": "code",
        "colab": {}
      },
      "source": [
        "#print(android_html)"
      ],
      "execution_count": 0,
      "outputs": []
    },
    {
      "cell_type": "code",
      "metadata": {
        "id": "fFzIOp2QrJSn",
        "colab_type": "code",
        "colab": {}
      },
      "source": [
        "android_data.close()"
      ],
      "execution_count": 0,
      "outputs": []
    },
    {
      "cell_type": "code",
      "metadata": {
        "id": "66nnul3zrJSq",
        "colab_type": "code",
        "colab": {}
      },
      "source": [
        "from bs4 import BeautifulSoup as soup"
      ],
      "execution_count": 0,
      "outputs": []
    },
    {
      "cell_type": "code",
      "metadata": {
        "id": "6A4zpPDirJSt",
        "colab_type": "code",
        "colab": {},
        "outputId": "f2f3de96-8360-4e2c-dd31-6ea58b1d1e03"
      },
      "source": [
        "android_soup = soup(android_html,'html.parser')\n",
        "print(type(android_soup))"
      ],
      "execution_count": 0,
      "outputs": [
        {
          "output_type": "stream",
          "text": [
            "<class 'bs4.BeautifulSoup'>\n"
          ],
          "name": "stdout"
        }
      ]
    },
    {
      "cell_type": "code",
      "metadata": {
        "id": "u-5NdYI5rJSw",
        "colab_type": "code",
        "colab": {}
      },
      "source": [
        "#print(android_soup)"
      ],
      "execution_count": 0,
      "outputs": []
    },
    {
      "cell_type": "code",
      "metadata": {
        "id": "TLY0VbxArJSz",
        "colab_type": "code",
        "colab": {},
        "outputId": "61dd5b54-1053-4bff-8bba-a20e76a6d28d"
      },
      "source": [
        "android_soup.h1"
      ],
      "execution_count": 0,
      "outputs": [
        {
          "output_type": "execute_result",
          "data": {
            "text/plain": [
              "<h1 class=\"firstHeading\" id=\"firstHeading\" lang=\"en\">Android version history</h1>"
            ]
          },
          "metadata": {
            "tags": []
          },
          "execution_count": 20
        }
      ]
    },
    {
      "cell_type": "code",
      "metadata": {
        "id": "QwH5RlZyrJS2",
        "colab_type": "code",
        "colab": {},
        "outputId": "592d57a8-8a47-47b0-883b-ddc20b9a49b8"
      },
      "source": [
        "android_soup.find_all('h1',{})"
      ],
      "execution_count": 0,
      "outputs": [
        {
          "output_type": "execute_result",
          "data": {
            "text/plain": [
              "[<h1 class=\"firstHeading\" id=\"firstHeading\" lang=\"en\">Android version history</h1>]"
            ]
          },
          "metadata": {
            "tags": []
          },
          "execution_count": 21
        }
      ]
    },
    {
      "cell_type": "code",
      "metadata": {
        "id": "1vx6ZVTfrJS8",
        "colab_type": "code",
        "colab": {}
      },
      "source": [
        "tables = android_soup.find_all('table',{'class':'wikitable'})"
      ],
      "execution_count": 0,
      "outputs": []
    },
    {
      "cell_type": "code",
      "metadata": {
        "id": "Wtm3JNgPrJS_",
        "colab_type": "code",
        "colab": {},
        "outputId": "af19bb22-ab31-4c4f-a78d-d21934090b30"
      },
      "source": [
        "print(len(tables))"
      ],
      "execution_count": 0,
      "outputs": [
        {
          "output_type": "stream",
          "text": [
            "30\n"
          ],
          "name": "stdout"
        }
      ]
    },
    {
      "cell_type": "code",
      "metadata": {
        "id": "vKRvKZgWrJTC",
        "colab_type": "code",
        "colab": {},
        "outputId": "5b28c4f4-3846-41f9-dcb3-53003161eef5"
      },
      "source": [
        "print(tables[0])"
      ],
      "execution_count": 0,
      "outputs": [
        {
          "output_type": "stream",
          "text": [
            "<table class=\"wikitable\">\n",
            "<tbody><tr>\n",
            "<th>Code name\n",
            "</th>\n",
            "<th>Version numbers\n",
            "</th>\n",
            "<th>Initial release date\n",
            "</th>\n",
            "<th>API level\n",
            "</th>\n",
            "<th>References\n",
            "</th></tr>\n",
            "<tr>\n",
            "<td rowspan=\"2\">No codename\n",
            "</td>\n",
            "<td>1.0\n",
            "</td>\n",
            "<td>September 23, 2008\n",
            "</td>\n",
            "<td>1\n",
            "</td>\n",
            "<td><sup class=\"reference\" id=\"cite_ref-unofficial_and_official_codenames_9-1\"><a href=\"#cite_note-unofficial_and_official_codenames-9\">[9]</a></sup>\n",
            "</td></tr>\n",
            "<tr>\n",
            "<td>1.1\n",
            "</td>\n",
            "<td>February 9, 2009\n",
            "</td>\n",
            "<td>2\n",
            "</td>\n",
            "<td><sup class=\"reference\" id=\"cite_ref-unofficial_and_official_codenames_9-2\"><a href=\"#cite_note-unofficial_and_official_codenames-9\">[9]</a></sup><sup class=\"reference\" id=\"cite_ref-11\"><a href=\"#cite_note-11\">[11]</a></sup>\n",
            "</td></tr>\n",
            "<tr>\n",
            "<td><a href=\"/wiki/Android_Cupcake\" title=\"Android Cupcake\">Cupcake</a>\n",
            "</td>\n",
            "<td>1.5\n",
            "</td>\n",
            "<td>April 27, 2009\n",
            "</td>\n",
            "<td>3\n",
            "</td>\n",
            "<td>\n",
            "</td></tr>\n",
            "<tr>\n",
            "<td><a href=\"/wiki/Android_Donut\" title=\"Android Donut\">Donut</a>\n",
            "</td>\n",
            "<td>1.6\n",
            "</td>\n",
            "<td>September 15, 2009\n",
            "</td>\n",
            "<td>4\n",
            "</td>\n",
            "<td><sup class=\"reference\" id=\"cite_ref-12\"><a href=\"#cite_note-12\">[12]</a></sup>\n",
            "</td></tr>\n",
            "<tr>\n",
            "<td><a href=\"/wiki/Android_Eclair\" title=\"Android Eclair\">Eclair</a>\n",
            "</td>\n",
            "<td>2.0 – 2.1\n",
            "</td>\n",
            "<td>October 26, 2009\n",
            "</td>\n",
            "<td>5 – 7\n",
            "</td>\n",
            "<td><sup class=\"reference\" id=\"cite_ref-13\"><a href=\"#cite_note-13\">[13]</a></sup>\n",
            "</td></tr>\n",
            "<tr>\n",
            "<td><a href=\"/wiki/Android_Froyo\" title=\"Android Froyo\">Froyo</a>\n",
            "</td>\n",
            "<td>2.2 – 2.2.3\n",
            "</td>\n",
            "<td>May 20, 2010\n",
            "</td>\n",
            "<td>8\n",
            "</td>\n",
            "<td><sup class=\"reference\" id=\"cite_ref-14\"><a href=\"#cite_note-14\">[14]</a></sup>\n",
            "</td></tr>\n",
            "<tr>\n",
            "<td><a href=\"/wiki/Android_Gingerbread\" title=\"Android Gingerbread\">Gingerbread</a>\n",
            "</td>\n",
            "<td>2.3 – 2.3.7\n",
            "</td>\n",
            "<td>December 6, 2010\n",
            "</td>\n",
            "<td>9 – 10\n",
            "</td>\n",
            "<td><sup class=\"reference\" id=\"cite_ref-15\"><a href=\"#cite_note-15\">[15]</a></sup>\n",
            "</td></tr>\n",
            "<tr>\n",
            "<td><a href=\"/wiki/Android_Honeycomb\" title=\"Android Honeycomb\">Honeycomb</a>\n",
            "</td>\n",
            "<td>3.0 – 3.2.6\n",
            "</td>\n",
            "<td>February 22, 2011\n",
            "</td>\n",
            "<td>11 – 13\n",
            "</td>\n",
            "<td><sup class=\"reference\" id=\"cite_ref-16\"><a href=\"#cite_note-16\">[16]</a></sup>\n",
            "</td></tr>\n",
            "<tr>\n",
            "<td><a href=\"/wiki/Android_Ice_Cream_Sandwich\" title=\"Android Ice Cream Sandwich\">Ice Cream Sandwich</a>\n",
            "</td>\n",
            "<td>4.0 – 4.0.4\n",
            "</td>\n",
            "<td>October 18, 2011\n",
            "</td>\n",
            "<td>14 – 15\n",
            "</td>\n",
            "<td><sup class=\"reference\" id=\"cite_ref-17\"><a href=\"#cite_note-17\">[17]</a></sup>\n",
            "</td></tr>\n",
            "<tr>\n",
            "<td><a href=\"/wiki/Android_Jelly_Bean\" title=\"Android Jelly Bean\">Jelly Bean</a>\n",
            "</td>\n",
            "<td>4.1 – 4.3.1\n",
            "</td>\n",
            "<td>July 9, 2012\n",
            "</td>\n",
            "<td>16 – 18\n",
            "</td>\n",
            "<td><sup class=\"reference\" id=\"cite_ref-18\"><a href=\"#cite_note-18\">[18]</a></sup>\n",
            "</td></tr>\n",
            "<tr>\n",
            "<td><a href=\"/wiki/Android_KitKat\" title=\"Android KitKat\">KitKat</a>\n",
            "</td>\n",
            "<td>4.4 – 4.4.4\n",
            "</td>\n",
            "<td>October 31, 2013\n",
            "</td>\n",
            "<td>19 – 20\n",
            "</td>\n",
            "<td><sup class=\"reference\" id=\"cite_ref-19\"><a href=\"#cite_note-19\">[19]</a></sup>\n",
            "</td></tr>\n",
            "<tr>\n",
            "<td><a href=\"/wiki/Android_Lollipop\" title=\"Android Lollipop\">Lollipop</a>\n",
            "</td>\n",
            "<td>5.0 – 5.1.1\n",
            "</td>\n",
            "<td>November 12, 2014\n",
            "</td>\n",
            "<td>21 – 22\n",
            "</td>\n",
            "<td><sup class=\"reference\" id=\"cite_ref-20\"><a href=\"#cite_note-20\">[20]</a></sup>\n",
            "</td></tr>\n",
            "<tr>\n",
            "<td><a href=\"/wiki/Android_Marshmallow\" title=\"Android Marshmallow\">Marshmallow</a>\n",
            "</td>\n",
            "<td>6.0 – 6.0.1\n",
            "</td>\n",
            "<td>October 5, 2015\n",
            "</td>\n",
            "<td>23\n",
            "</td>\n",
            "<td><sup class=\"reference\" id=\"cite_ref-21\"><a href=\"#cite_note-21\">[21]</a></sup>\n",
            "</td></tr>\n",
            "<tr>\n",
            "<td rowspan=\"2\"><a href=\"/wiki/Android_Nougat\" title=\"Android Nougat\">Nougat</a>\n",
            "</td>\n",
            "<td>7.0\n",
            "</td>\n",
            "<td>August 22, 2016\n",
            "</td>\n",
            "<td>24\n",
            "</td>\n",
            "<td><sup class=\"reference\" id=\"cite_ref-22\"><a href=\"#cite_note-22\">[22]</a></sup>\n",
            "</td></tr>\n",
            "<tr>\n",
            "<td>7.1.0 – 7.1.2\n",
            "</td>\n",
            "<td>October 4, 2016\n",
            "</td>\n",
            "<td>25\n",
            "</td>\n",
            "<td><sup class=\"reference\" id=\"cite_ref-23\"><a href=\"#cite_note-23\">[23]</a></sup><sup class=\"reference\" id=\"cite_ref-24\"><a href=\"#cite_note-24\">[24]</a></sup><sup class=\"reference\" id=\"cite_ref-25\"><a href=\"#cite_note-25\">[25]</a></sup>\n",
            "</td></tr>\n",
            "<tr>\n",
            "<td rowspan=\"2\"><a href=\"/wiki/Android_Oreo\" title=\"Android Oreo\">Oreo</a>\n",
            "</td>\n",
            "<td>8.0\n",
            "</td>\n",
            "<td>August 21, 2017\n",
            "</td>\n",
            "<td>26\n",
            "</td>\n",
            "<td><sup class=\"reference\" id=\"cite_ref-26\"><a href=\"#cite_note-26\">[26]</a></sup>\n",
            "</td></tr>\n",
            "<tr>\n",
            "<td>8.1\n",
            "</td>\n",
            "<td>December 5, 2017\n",
            "</td>\n",
            "<td>27\n",
            "</td>\n",
            "<td>\n",
            "</td></tr>\n",
            "<tr>\n",
            "<td><a href=\"/wiki/Android_Pie\" title=\"Android Pie\">Pie</a>\n",
            "</td>\n",
            "<td>9.0\n",
            "</td>\n",
            "<td>August 6, 2018\n",
            "</td>\n",
            "<td>28\n",
            "</td>\n",
            "<td><sup class=\"reference\" id=\"cite_ref-27\"><a href=\"#cite_note-27\">[27]</a></sup>\n",
            "</td></tr>\n",
            "<tr>\n",
            "<td><a href=\"/wiki/Android_10\" title=\"Android 10\">Android 10</a>\n",
            "</td>\n",
            "<td>10.0\n",
            "</td>\n",
            "<td>September 3, 2019\n",
            "</td>\n",
            "<td>29\n",
            "</td>\n",
            "<td><sup class=\"reference\" id=\"cite_ref-28\"><a href=\"#cite_note-28\">[28]</a></sup>\n",
            "</td></tr></tbody></table>\n"
          ],
          "name": "stdout"
        }
      ]
    },
    {
      "cell_type": "markdown",
      "metadata": {
        "id": "cBnVeaE6rJTE",
        "colab_type": "text"
      },
      "source": [
        "# VL -3(Parsing the HTML table) Extracting the useful information"
      ]
    },
    {
      "cell_type": "code",
      "metadata": {
        "id": "h04BCVHyrJTF",
        "colab_type": "code",
        "colab": {},
        "outputId": "17b8e7c2-40e0-4108-de32-632f52a4cc8d"
      },
      "source": [
        "android_table = tables[0]\n",
        "print(type(android_table))"
      ],
      "execution_count": 0,
      "outputs": [
        {
          "output_type": "stream",
          "text": [
            "<class 'bs4.element.Tag'>\n"
          ],
          "name": "stdout"
        }
      ]
    },
    {
      "cell_type": "code",
      "metadata": {
        "id": "FKXF2Ng2rJTH",
        "colab_type": "code",
        "colab": {}
      },
      "source": [
        ""
      ],
      "execution_count": 0,
      "outputs": []
    },
    {
      "cell_type": "code",
      "metadata": {
        "id": "nnPlpOphrJTK",
        "colab_type": "code",
        "colab": {},
        "outputId": "986ebafa-73ee-462b-ea83-a8dfff61fed2"
      },
      "source": [
        "headers = android_table.findAll('th')\n",
        "print(len(headers))"
      ],
      "execution_count": 0,
      "outputs": [
        {
          "output_type": "stream",
          "text": [
            "5\n"
          ],
          "name": "stdout"
        }
      ]
    },
    {
      "cell_type": "code",
      "metadata": {
        "id": "d-p6orjvrJTM",
        "colab_type": "code",
        "colab": {},
        "outputId": "93f6b309-b612-4304-9346-3286a8a900b4"
      },
      "source": [
        "print(headers)"
      ],
      "execution_count": 0,
      "outputs": [
        {
          "output_type": "stream",
          "text": [
            "[<th>Code name\n",
            "</th>, <th>Version numbers\n",
            "</th>, <th>Initial release date\n",
            "</th>, <th>API level\n",
            "</th>, <th>References\n",
            "</th>]\n"
          ],
          "name": "stdout"
        }
      ]
    },
    {
      "cell_type": "code",
      "metadata": {
        "id": "4rVELQPZrJTP",
        "colab_type": "code",
        "colab": {},
        "outputId": "c5daf013-30b8-4efd-c942-32437801525e"
      },
      "source": [
        "print(type(headers))"
      ],
      "execution_count": 0,
      "outputs": [
        {
          "output_type": "stream",
          "text": [
            "<class 'bs4.element.ResultSet'>\n"
          ],
          "name": "stdout"
        }
      ]
    },
    {
      "cell_type": "code",
      "metadata": {
        "id": "S7XNsMTDrJTR",
        "colab_type": "code",
        "colab": {},
        "outputId": "42a069ed-8e07-4837-e4a7-2278c5e8c66c"
      },
      "source": [
        "print(headers[0])"
      ],
      "execution_count": 0,
      "outputs": [
        {
          "output_type": "stream",
          "text": [
            "<th>Code name\n",
            "</th>\n"
          ],
          "name": "stdout"
        }
      ]
    },
    {
      "cell_type": "code",
      "metadata": {
        "id": "V8Y-mNzKrJTT",
        "colab_type": "code",
        "colab": {},
        "outputId": "89ca8066-fdba-4f02-9ff1-9c7f6fa0ed70"
      },
      "source": [
        "print(headers[0].text)"
      ],
      "execution_count": 0,
      "outputs": [
        {
          "output_type": "stream",
          "text": [
            "Code name\n",
            "\n"
          ],
          "name": "stdout"
        }
      ]
    },
    {
      "cell_type": "code",
      "metadata": {
        "id": "XLvguerArJTW",
        "colab_type": "code",
        "colab": {}
      },
      "source": [
        "columns_title = [hr.text[:-1] for hr in headers]"
      ],
      "execution_count": 0,
      "outputs": []
    },
    {
      "cell_type": "code",
      "metadata": {
        "id": "BpTZ0BhOrJTY",
        "colab_type": "code",
        "colab": {},
        "outputId": "f8c9c2c2-a35f-41ae-be35-4f9ac976137c"
      },
      "source": [
        "print(columns_title)"
      ],
      "execution_count": 0,
      "outputs": [
        {
          "output_type": "stream",
          "text": [
            "['Code name', 'Version numbers', 'Initial release date', 'API level', 'References']\n"
          ],
          "name": "stdout"
        }
      ]
    },
    {
      "cell_type": "code",
      "metadata": {
        "id": "Tik2ixadrJTa",
        "colab_type": "code",
        "colab": {},
        "outputId": "db2796ec-fcb5-4153-96fb-385ac1d2af94"
      },
      "source": [
        "table_rows = android_table.findAll('tr')\n",
        "print(table_rows)\n",
        "print(type(table_rows))"
      ],
      "execution_count": 0,
      "outputs": [
        {
          "output_type": "stream",
          "text": [
            "[<tr>\n",
            "<th>Code name\n",
            "</th>\n",
            "<th>Version numbers\n",
            "</th>\n",
            "<th>Initial release date\n",
            "</th>\n",
            "<th>API level\n",
            "</th>\n",
            "<th>References\n",
            "</th></tr>, <tr>\n",
            "<td rowspan=\"2\">No codename\n",
            "</td>\n",
            "<td>1.0\n",
            "</td>\n",
            "<td>September 23, 2008\n",
            "</td>\n",
            "<td>1\n",
            "</td>\n",
            "<td><sup class=\"reference\" id=\"cite_ref-unofficial_and_official_codenames_9-1\"><a href=\"#cite_note-unofficial_and_official_codenames-9\">[9]</a></sup>\n",
            "</td></tr>, <tr>\n",
            "<td>1.1\n",
            "</td>\n",
            "<td>February 9, 2009\n",
            "</td>\n",
            "<td>2\n",
            "</td>\n",
            "<td><sup class=\"reference\" id=\"cite_ref-unofficial_and_official_codenames_9-2\"><a href=\"#cite_note-unofficial_and_official_codenames-9\">[9]</a></sup><sup class=\"reference\" id=\"cite_ref-11\"><a href=\"#cite_note-11\">[11]</a></sup>\n",
            "</td></tr>, <tr>\n",
            "<td><a href=\"/wiki/Android_Cupcake\" title=\"Android Cupcake\">Cupcake</a>\n",
            "</td>\n",
            "<td>1.5\n",
            "</td>\n",
            "<td>April 27, 2009\n",
            "</td>\n",
            "<td>3\n",
            "</td>\n",
            "<td>\n",
            "</td></tr>, <tr>\n",
            "<td><a href=\"/wiki/Android_Donut\" title=\"Android Donut\">Donut</a>\n",
            "</td>\n",
            "<td>1.6\n",
            "</td>\n",
            "<td>September 15, 2009\n",
            "</td>\n",
            "<td>4\n",
            "</td>\n",
            "<td><sup class=\"reference\" id=\"cite_ref-12\"><a href=\"#cite_note-12\">[12]</a></sup>\n",
            "</td></tr>, <tr>\n",
            "<td><a href=\"/wiki/Android_Eclair\" title=\"Android Eclair\">Eclair</a>\n",
            "</td>\n",
            "<td>2.0 – 2.1\n",
            "</td>\n",
            "<td>October 26, 2009\n",
            "</td>\n",
            "<td>5 – 7\n",
            "</td>\n",
            "<td><sup class=\"reference\" id=\"cite_ref-13\"><a href=\"#cite_note-13\">[13]</a></sup>\n",
            "</td></tr>, <tr>\n",
            "<td><a href=\"/wiki/Android_Froyo\" title=\"Android Froyo\">Froyo</a>\n",
            "</td>\n",
            "<td>2.2 – 2.2.3\n",
            "</td>\n",
            "<td>May 20, 2010\n",
            "</td>\n",
            "<td>8\n",
            "</td>\n",
            "<td><sup class=\"reference\" id=\"cite_ref-14\"><a href=\"#cite_note-14\">[14]</a></sup>\n",
            "</td></tr>, <tr>\n",
            "<td><a href=\"/wiki/Android_Gingerbread\" title=\"Android Gingerbread\">Gingerbread</a>\n",
            "</td>\n",
            "<td>2.3 – 2.3.7\n",
            "</td>\n",
            "<td>December 6, 2010\n",
            "</td>\n",
            "<td>9 – 10\n",
            "</td>\n",
            "<td><sup class=\"reference\" id=\"cite_ref-15\"><a href=\"#cite_note-15\">[15]</a></sup>\n",
            "</td></tr>, <tr>\n",
            "<td><a href=\"/wiki/Android_Honeycomb\" title=\"Android Honeycomb\">Honeycomb</a>\n",
            "</td>\n",
            "<td>3.0 – 3.2.6\n",
            "</td>\n",
            "<td>February 22, 2011\n",
            "</td>\n",
            "<td>11 – 13\n",
            "</td>\n",
            "<td><sup class=\"reference\" id=\"cite_ref-16\"><a href=\"#cite_note-16\">[16]</a></sup>\n",
            "</td></tr>, <tr>\n",
            "<td><a href=\"/wiki/Android_Ice_Cream_Sandwich\" title=\"Android Ice Cream Sandwich\">Ice Cream Sandwich</a>\n",
            "</td>\n",
            "<td>4.0 – 4.0.4\n",
            "</td>\n",
            "<td>October 18, 2011\n",
            "</td>\n",
            "<td>14 – 15\n",
            "</td>\n",
            "<td><sup class=\"reference\" id=\"cite_ref-17\"><a href=\"#cite_note-17\">[17]</a></sup>\n",
            "</td></tr>, <tr>\n",
            "<td><a href=\"/wiki/Android_Jelly_Bean\" title=\"Android Jelly Bean\">Jelly Bean</a>\n",
            "</td>\n",
            "<td>4.1 – 4.3.1\n",
            "</td>\n",
            "<td>July 9, 2012\n",
            "</td>\n",
            "<td>16 – 18\n",
            "</td>\n",
            "<td><sup class=\"reference\" id=\"cite_ref-18\"><a href=\"#cite_note-18\">[18]</a></sup>\n",
            "</td></tr>, <tr>\n",
            "<td><a href=\"/wiki/Android_KitKat\" title=\"Android KitKat\">KitKat</a>\n",
            "</td>\n",
            "<td>4.4 – 4.4.4\n",
            "</td>\n",
            "<td>October 31, 2013\n",
            "</td>\n",
            "<td>19 – 20\n",
            "</td>\n",
            "<td><sup class=\"reference\" id=\"cite_ref-19\"><a href=\"#cite_note-19\">[19]</a></sup>\n",
            "</td></tr>, <tr>\n",
            "<td><a href=\"/wiki/Android_Lollipop\" title=\"Android Lollipop\">Lollipop</a>\n",
            "</td>\n",
            "<td>5.0 – 5.1.1\n",
            "</td>\n",
            "<td>November 12, 2014\n",
            "</td>\n",
            "<td>21 – 22\n",
            "</td>\n",
            "<td><sup class=\"reference\" id=\"cite_ref-20\"><a href=\"#cite_note-20\">[20]</a></sup>\n",
            "</td></tr>, <tr>\n",
            "<td><a href=\"/wiki/Android_Marshmallow\" title=\"Android Marshmallow\">Marshmallow</a>\n",
            "</td>\n",
            "<td>6.0 – 6.0.1\n",
            "</td>\n",
            "<td>October 5, 2015\n",
            "</td>\n",
            "<td>23\n",
            "</td>\n",
            "<td><sup class=\"reference\" id=\"cite_ref-21\"><a href=\"#cite_note-21\">[21]</a></sup>\n",
            "</td></tr>, <tr>\n",
            "<td rowspan=\"2\"><a href=\"/wiki/Android_Nougat\" title=\"Android Nougat\">Nougat</a>\n",
            "</td>\n",
            "<td>7.0\n",
            "</td>\n",
            "<td>August 22, 2016\n",
            "</td>\n",
            "<td>24\n",
            "</td>\n",
            "<td><sup class=\"reference\" id=\"cite_ref-22\"><a href=\"#cite_note-22\">[22]</a></sup>\n",
            "</td></tr>, <tr>\n",
            "<td>7.1.0 – 7.1.2\n",
            "</td>\n",
            "<td>October 4, 2016\n",
            "</td>\n",
            "<td>25\n",
            "</td>\n",
            "<td><sup class=\"reference\" id=\"cite_ref-23\"><a href=\"#cite_note-23\">[23]</a></sup><sup class=\"reference\" id=\"cite_ref-24\"><a href=\"#cite_note-24\">[24]</a></sup><sup class=\"reference\" id=\"cite_ref-25\"><a href=\"#cite_note-25\">[25]</a></sup>\n",
            "</td></tr>, <tr>\n",
            "<td rowspan=\"2\"><a href=\"/wiki/Android_Oreo\" title=\"Android Oreo\">Oreo</a>\n",
            "</td>\n",
            "<td>8.0\n",
            "</td>\n",
            "<td>August 21, 2017\n",
            "</td>\n",
            "<td>26\n",
            "</td>\n",
            "<td><sup class=\"reference\" id=\"cite_ref-26\"><a href=\"#cite_note-26\">[26]</a></sup>\n",
            "</td></tr>, <tr>\n",
            "<td>8.1\n",
            "</td>\n",
            "<td>December 5, 2017\n",
            "</td>\n",
            "<td>27\n",
            "</td>\n",
            "<td>\n",
            "</td></tr>, <tr>\n",
            "<td><a href=\"/wiki/Android_Pie\" title=\"Android Pie\">Pie</a>\n",
            "</td>\n",
            "<td>9.0\n",
            "</td>\n",
            "<td>August 6, 2018\n",
            "</td>\n",
            "<td>28\n",
            "</td>\n",
            "<td><sup class=\"reference\" id=\"cite_ref-27\"><a href=\"#cite_note-27\">[27]</a></sup>\n",
            "</td></tr>, <tr>\n",
            "<td><a href=\"/wiki/Android_10\" title=\"Android 10\">Android 10</a>\n",
            "</td>\n",
            "<td>10.0\n",
            "</td>\n",
            "<td>September 3, 2019\n",
            "</td>\n",
            "<td>29\n",
            "</td>\n",
            "<td><sup class=\"reference\" id=\"cite_ref-28\"><a href=\"#cite_note-28\">[28]</a></sup>\n",
            "</td></tr>]\n",
            "<class 'bs4.element.ResultSet'>\n"
          ],
          "name": "stdout"
        }
      ]
    },
    {
      "cell_type": "code",
      "metadata": {
        "id": "LK1muECJrJTd",
        "colab_type": "code",
        "colab": {},
        "outputId": "862a8899-3bb5-4110-8ad2-a63258098057"
      },
      "source": [
        "table_rows = table_rows[1:]\n",
        "print(type(table_rows))\n",
        "print(type(table_rows[0]))"
      ],
      "execution_count": 0,
      "outputs": [
        {
          "output_type": "stream",
          "text": [
            "<class 'list'>\n",
            "<class 'bs4.element.Tag'>\n"
          ],
          "name": "stdout"
        }
      ]
    },
    {
      "cell_type": "code",
      "metadata": {
        "id": "tfZ3JdVfrJTi",
        "colab_type": "code",
        "colab": {},
        "outputId": "bd0e9bda-012b-418d-f58f-d924feb8a170"
      },
      "source": [
        "f_row = table_rows[0].findAll('td',{})\n",
        "print(f_row)"
      ],
      "execution_count": 0,
      "outputs": [
        {
          "output_type": "stream",
          "text": [
            "[<td><a href=\"/wiki/Android_Donut\" title=\"Android Donut\">Donut</a>\n",
            "</td>, <td>1.6\n",
            "</td>, <td>September 15, 2009\n",
            "</td>, <td>4\n",
            "</td>, <td><sup class=\"reference\" id=\"cite_ref-12\"><a href=\"#cite_note-12\">[12]</a></sup>\n",
            "</td>]\n"
          ],
          "name": "stdout"
        }
      ]
    },
    {
      "cell_type": "code",
      "metadata": {
        "id": "SzOc7Y-UrJTl",
        "colab_type": "code",
        "colab": {},
        "outputId": "031d736d-f92e-46c2-8cd6-9959f14fd44f"
      },
      "source": [
        "for d in f_row:\n",
        "    print(d.text[:-1])"
      ],
      "execution_count": 0,
      "outputs": [
        {
          "output_type": "stream",
          "text": [
            "No codename\n",
            "1.0\n",
            "September 23, 2008\n",
            "1\n",
            "[9]\n"
          ],
          "name": "stdout"
        }
      ]
    },
    {
      "cell_type": "code",
      "metadata": {
        "id": "-CmlmtjwrJTo",
        "colab_type": "code",
        "colab": {}
      },
      "source": [
        "table_rows = []\n",
        "trow = android_table.findAll('tr')[1:]\n",
        "#print(type(trow))\n",
        "#print(trow)\n",
        "\n",
        "for tr in trow:\n",
        "    curr_row = []\n",
        "    #print(type(tr))\n",
        "    for td in tr.findAll('td',{}):\n",
        "        curr_row.append(td.text[:-1])\n",
        "        #print(td.text[:-1])\n",
        "    table_rows.append(curr_row)\n",
        "    "
      ],
      "execution_count": 0,
      "outputs": []
    },
    {
      "cell_type": "code",
      "metadata": {
        "id": "WLjOSgjVrJTr",
        "colab_type": "code",
        "colab": {},
        "outputId": "47b6deb6-2cd7-4cd9-99b5-b0d9d6ae2451"
      },
      "source": [
        "for r in table_rows:\n",
        "    if len(r)==4:\n",
        "        r.insert(0,'-')\n",
        "print(table_rows)"
      ],
      "execution_count": 0,
      "outputs": [
        {
          "output_type": "stream",
          "text": [
            "[['No codename', '1.0', 'September 23, 2008', '1', '[9]'], ['-', '1.1', 'February 9, 2009', '2', '[9][11]'], ['Cupcake', '1.5', 'April 27, 2009', '3', ''], ['Donut', '1.6', 'September 15, 2009', '4', '[12]'], ['Eclair', '2.0 – 2.1', 'October 26, 2009', '5 – 7', '[13]'], ['Froyo', '2.2 – 2.2.3', 'May 20, 2010', '8', '[14]'], ['Gingerbread', '2.3 – 2.3.7', 'December 6, 2010', '9 – 10', '[15]'], ['Honeycomb', '3.0 – 3.2.6', 'February 22, 2011', '11 – 13', '[16]'], ['Ice Cream Sandwich', '4.0 – 4.0.4', 'October 18, 2011', '14 – 15', '[17]'], ['Jelly Bean', '4.1 – 4.3.1', 'July 9, 2012', '16 – 18', '[18]'], ['KitKat', '4.4 – 4.4.4', 'October 31, 2013', '19 – 20', '[19]'], ['Lollipop', '5.0 – 5.1.1', 'November 12, 2014', '21 – 22', '[20]'], ['Marshmallow', '6.0 – 6.0.1', 'October 5, 2015', '23', '[21]'], ['Nougat', '7.0', 'August 22, 2016', '24', '[22]'], ['-', '7.1.0 – 7.1.2', 'October 4, 2016', '25', '[23][24][25]'], ['Oreo', '8.0', 'August 21, 2017', '26', '[26]'], ['-', '8.1', 'December 5, 2017', '27', ''], ['Pie', '9.0', 'August 6, 2018', '28', '[27]'], ['Android 10', '10.0', 'September 3, 2019', '29', '[28]']]\n"
          ],
          "name": "stdout"
        }
      ]
    },
    {
      "cell_type": "code",
      "metadata": {
        "id": "Tu3XTc-HrJTt",
        "colab_type": "code",
        "colab": {},
        "outputId": "67fb2e58-12b4-4203-8cf6-45c879597514"
      },
      "source": [
        "table_rows1 = []\n",
        "trow1 = android_table.findAll('tr')[1:]\n",
        "#print(type(trow))\n",
        "#print(trow)\n",
        "\n",
        "for tr in trow1:\n",
        "    curr_row1 = []\n",
        "    tdl = tr.findAll('td',{})\n",
        "    for idx,td in enumerate(tdl):\n",
        "        curr_row1.append(td.text[:-1])\n",
        "    table_rows1.append(curr_row1)\n",
        "print(table_rows1)\n"
      ],
      "execution_count": 0,
      "outputs": [
        {
          "output_type": "stream",
          "text": [
            "[['No codename', '1.0', 'September 23, 2008', '1', '[9]'], ['1.1', 'February 9, 2009', '2', '[9][11]'], ['Cupcake', '1.5', 'April 27, 2009', '3', ''], ['Donut', '1.6', 'September 15, 2009', '4', '[12]'], ['Eclair', '2.0 – 2.1', 'October 26, 2009', '5 – 7', '[13]'], ['Froyo', '2.2 – 2.2.3', 'May 20, 2010', '8', '[14]'], ['Gingerbread', '2.3 – 2.3.7', 'December 6, 2010', '9 – 10', '[15]'], ['Honeycomb', '3.0 – 3.2.6', 'February 22, 2011', '11 – 13', '[16]'], ['Ice Cream Sandwich', '4.0 – 4.0.4', 'October 18, 2011', '14 – 15', '[17]'], ['Jelly Bean', '4.1 – 4.3.1', 'July 9, 2012', '16 – 18', '[18]'], ['KitKat', '4.4 – 4.4.4', 'October 31, 2013', '19 – 20', '[19]'], ['Lollipop', '5.0 – 5.1.1', 'November 12, 2014', '21 – 22', '[20]'], ['Marshmallow', '6.0 – 6.0.1', 'October 5, 2015', '23', '[21]'], ['Nougat', '7.0', 'August 22, 2016', '24', '[22]'], ['7.1.0 – 7.1.2', 'October 4, 2016', '25', '[23][24][25]'], ['Oreo', '8.0', 'August 21, 2017', '26', '[26]'], ['8.1', 'December 5, 2017', '27', ''], ['Pie', '9.0', 'August 6, 2018', '28', '[27]'], ['Android 10', '10.0', 'September 3, 2019', '29', '[28]']]\n"
          ],
          "name": "stdout"
        }
      ]
    },
    {
      "cell_type": "markdown",
      "metadata": {
        "id": "d-vcdGunrJTv",
        "colab_type": "text"
      },
      "source": [
        "# VL-4 reading and writing csv file"
      ]
    },
    {
      "cell_type": "code",
      "metadata": {
        "id": "p_ExihL6rJTw",
        "colab_type": "code",
        "colab": {}
      },
      "source": [
        "filename = \"android_version_history.csv\"\n",
        "with open(filename,'w',encoding='utf-8') as f:\n",
        "    # creating header file\n",
        "    header_string = \",\".join(columns_title)\n",
        "    header_string += '\\n'\n",
        "    f.write(header_string)\n",
        "    \n",
        "    \n",
        "    for tr in table_rows:\n",
        "        bstring = \"\"\n",
        "        for w in tr:\n",
        "            w = w.replace(',',' ')\n",
        "            bstring += w +','\n",
        "        bstring = bstring[:-1]\n",
        "        bstring += '\\n'\n",
        "        f.write(bstring)\n",
        "        "
      ],
      "execution_count": 0,
      "outputs": []
    },
    {
      "cell_type": "code",
      "metadata": {
        "id": "hEXZF2g1rJT2",
        "colab_type": "code",
        "colab": {}
      },
      "source": [
        "import pandas as pd"
      ],
      "execution_count": 0,
      "outputs": []
    },
    {
      "cell_type": "code",
      "metadata": {
        "id": "nXM-bnCnrJT6",
        "colab_type": "code",
        "colab": {},
        "outputId": "bb7349d7-f400-4971-9efa-c921c373e977"
      },
      "source": [
        "df = pd.read_csv(\"android_version_history.csv\")\n",
        "df.head(n=10)"
      ],
      "execution_count": 0,
      "outputs": [
        {
          "output_type": "execute_result",
          "data": {
            "text/html": [
              "<div>\n",
              "<style scoped>\n",
              "    .dataframe tbody tr th:only-of-type {\n",
              "        vertical-align: middle;\n",
              "    }\n",
              "\n",
              "    .dataframe tbody tr th {\n",
              "        vertical-align: top;\n",
              "    }\n",
              "\n",
              "    .dataframe thead th {\n",
              "        text-align: right;\n",
              "    }\n",
              "</style>\n",
              "<table border=\"1\" class=\"dataframe\">\n",
              "  <thead>\n",
              "    <tr style=\"text-align: right;\">\n",
              "      <th></th>\n",
              "      <th>Code name</th>\n",
              "      <th>Version numbers</th>\n",
              "      <th>Initial release date</th>\n",
              "      <th>API level</th>\n",
              "      <th>References</th>\n",
              "    </tr>\n",
              "  </thead>\n",
              "  <tbody>\n",
              "    <tr>\n",
              "      <td>0</td>\n",
              "      <td>No codename</td>\n",
              "      <td>1.0</td>\n",
              "      <td>September 23  2008</td>\n",
              "      <td>1</td>\n",
              "      <td>[9]</td>\n",
              "    </tr>\n",
              "    <tr>\n",
              "      <td>1</td>\n",
              "      <td>-</td>\n",
              "      <td>1.1</td>\n",
              "      <td>February 9  2009</td>\n",
              "      <td>2</td>\n",
              "      <td>[9][11]</td>\n",
              "    </tr>\n",
              "    <tr>\n",
              "      <td>2</td>\n",
              "      <td>Cupcake</td>\n",
              "      <td>1.5</td>\n",
              "      <td>April 27  2009</td>\n",
              "      <td>3</td>\n",
              "      <td>NaN</td>\n",
              "    </tr>\n",
              "    <tr>\n",
              "      <td>3</td>\n",
              "      <td>Donut</td>\n",
              "      <td>1.6</td>\n",
              "      <td>September 15  2009</td>\n",
              "      <td>4</td>\n",
              "      <td>[12]</td>\n",
              "    </tr>\n",
              "    <tr>\n",
              "      <td>4</td>\n",
              "      <td>Eclair</td>\n",
              "      <td>2.0 – 2.1</td>\n",
              "      <td>October 26  2009</td>\n",
              "      <td>5 – 7</td>\n",
              "      <td>[13]</td>\n",
              "    </tr>\n",
              "    <tr>\n",
              "      <td>5</td>\n",
              "      <td>Froyo</td>\n",
              "      <td>2.2 – 2.2.3</td>\n",
              "      <td>May 20  2010</td>\n",
              "      <td>8</td>\n",
              "      <td>[14]</td>\n",
              "    </tr>\n",
              "    <tr>\n",
              "      <td>6</td>\n",
              "      <td>Gingerbread</td>\n",
              "      <td>2.3 – 2.3.7</td>\n",
              "      <td>December 6  2010</td>\n",
              "      <td>9 – 10</td>\n",
              "      <td>[15]</td>\n",
              "    </tr>\n",
              "    <tr>\n",
              "      <td>7</td>\n",
              "      <td>Honeycomb</td>\n",
              "      <td>3.0 – 3.2.6</td>\n",
              "      <td>February 22  2011</td>\n",
              "      <td>11 – 13</td>\n",
              "      <td>[16]</td>\n",
              "    </tr>\n",
              "    <tr>\n",
              "      <td>8</td>\n",
              "      <td>Ice Cream Sandwich</td>\n",
              "      <td>4.0 – 4.0.4</td>\n",
              "      <td>October 18  2011</td>\n",
              "      <td>14 – 15</td>\n",
              "      <td>[17]</td>\n",
              "    </tr>\n",
              "    <tr>\n",
              "      <td>9</td>\n",
              "      <td>Jelly Bean</td>\n",
              "      <td>4.1 – 4.3.1</td>\n",
              "      <td>July 9  2012</td>\n",
              "      <td>16 – 18</td>\n",
              "      <td>[18]</td>\n",
              "    </tr>\n",
              "  </tbody>\n",
              "</table>\n",
              "</div>"
            ],
            "text/plain": [
              "            Code name Version numbers Initial release date API level  \\\n",
              "0         No codename             1.0   September 23  2008         1   \n",
              "1                   -             1.1     February 9  2009         2   \n",
              "2             Cupcake             1.5       April 27  2009         3   \n",
              "3               Donut             1.6   September 15  2009         4   \n",
              "4              Eclair       2.0 – 2.1     October 26  2009     5 – 7   \n",
              "5               Froyo     2.2 – 2.2.3         May 20  2010         8   \n",
              "6         Gingerbread     2.3 – 2.3.7     December 6  2010    9 – 10   \n",
              "7           Honeycomb     3.0 – 3.2.6    February 22  2011   11 – 13   \n",
              "8  Ice Cream Sandwich     4.0 – 4.0.4     October 18  2011   14 – 15   \n",
              "9          Jelly Bean     4.1 – 4.3.1         July 9  2012   16 – 18   \n",
              "\n",
              "  References  \n",
              "0        [9]  \n",
              "1    [9][11]  \n",
              "2        NaN  \n",
              "3       [12]  \n",
              "4       [13]  \n",
              "5       [14]  \n",
              "6       [15]  \n",
              "7       [16]  \n",
              "8       [17]  \n",
              "9       [18]  "
            ]
          },
          "metadata": {
            "tags": []
          },
          "execution_count": 108
        }
      ]
    },
    {
      "cell_type": "markdown",
      "metadata": {
        "id": "LWh2tludrJT8",
        "colab_type": "text"
      },
      "source": [
        "# VL-5 Scraping local file (i.e. Loading local file)"
      ]
    },
    {
      "cell_type": "markdown",
      "metadata": {
        "id": "YRcsSBLKrJT9",
        "colab_type": "text"
      },
      "source": [
        "# This lecture is all about scraping data from the locally stored .html or .json file . So in this I've saved the same Android Version history wiki page as an Android.html file and I'm going to demonstrate how I'm going to do that"
      ]
    },
    {
      "cell_type": "code",
      "metadata": {
        "id": "DFQXkPmZrJT9",
        "colab_type": "code",
        "colab": {}
      },
      "source": [
        "with open('Android.html', encoding='utf-8') as f:\n",
        "    page_soup = soup(f,'html.parser')"
      ],
      "execution_count": 0,
      "outputs": []
    },
    {
      "cell_type": "code",
      "metadata": {
        "id": "ZJ4HFZderJT_",
        "colab_type": "code",
        "colab": {},
        "outputId": "ea992070-9f36-452e-a602-5fe07fce7762"
      },
      "source": [
        "page_soup.findAll('h1')"
      ],
      "execution_count": 0,
      "outputs": [
        {
          "output_type": "execute_result",
          "data": {
            "text/plain": [
              "[<h1 class=\"firstHeading\" id=\"firstHeading\" lang=\"en\">Android version history</h1>]"
            ]
          },
          "metadata": {
            "tags": []
          },
          "execution_count": 110
        }
      ]
    },
    {
      "cell_type": "code",
      "metadata": {
        "id": "U4JbNUAlrJUC",
        "colab_type": "code",
        "colab": {}
      },
      "source": [
        "#page_soup.findAll('table')"
      ],
      "execution_count": 0,
      "outputs": []
    },
    {
      "cell_type": "markdown",
      "metadata": {
        "id": "1eVpWRM-rJUF",
        "colab_type": "text"
      },
      "source": [
        "# Remaining all the concept remains the same.....as it demonstrated in VL-3 and 4 so don't get hesitated in going along the same process"
      ]
    },
    {
      "cell_type": "code",
      "metadata": {
        "id": "yc439BwMrJUI",
        "colab_type": "code",
        "colab": {}
      },
      "source": [
        ""
      ],
      "execution_count": 0,
      "outputs": []
    },
    {
      "cell_type": "code",
      "metadata": {
        "id": "bhKCQiPXrJUK",
        "colab_type": "code",
        "colab": {}
      },
      "source": [
        ""
      ],
      "execution_count": 0,
      "outputs": []
    },
    {
      "cell_type": "code",
      "metadata": {
        "id": "Wp66WBXUrJUL",
        "colab_type": "code",
        "colab": {}
      },
      "source": [
        ""
      ],
      "execution_count": 0,
      "outputs": []
    },
    {
      "cell_type": "code",
      "metadata": {
        "id": "i-ZwLF7vrJUO",
        "colab_type": "code",
        "colab": {}
      },
      "source": [
        ""
      ],
      "execution_count": 0,
      "outputs": []
    }
  ]
}