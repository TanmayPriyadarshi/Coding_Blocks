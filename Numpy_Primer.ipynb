{
  "nbformat": 4,
  "nbformat_minor": 0,
  "metadata": {
    "kernelspec": {
      "display_name": "Python 3",
      "language": "python",
      "name": "python3"
    },
    "language_info": {
      "codemirror_mode": {
        "name": "ipython",
        "version": 3
      },
      "file_extension": ".py",
      "mimetype": "text/x-python",
      "name": "python",
      "nbconvert_exporter": "python",
      "pygments_lexer": "ipython3",
      "version": "3.7.4"
    },
    "colab": {
      "name": "Numpy-Primer.ipynb",
      "provenance": [],
      "include_colab_link": true
    }
  },
  "cells": [
    {
      "cell_type": "markdown",
      "metadata": {
        "id": "view-in-github",
        "colab_type": "text"
      },
      "source": [
        "<a href=\"https://colab.research.google.com/github/TanmayPriyadarshi/Coding_Blocks/blob/master/Numpy_Primer.ipynb\" target=\"_parent\"><img src=\"https://colab.research.google.com/assets/colab-badge.svg\" alt=\"Open In Colab\"/></a>"
      ]
    },
    {
      "cell_type": "markdown",
      "metadata": {
        "id": "Y0zHgH6Es0rt",
        "colab_type": "text"
      },
      "source": [
        "# @Author --- Tanmay Priyadarshi\n",
        "# @creation started on --- 21st January , 2020\n",
        "# @creation ended on --- XXth January , 2020\n",
        "# @Brief about Doc --- Basic and practical approach to know how things are done in Numpy.....\n",
        "# @Title --- Numpy-Primer"
      ]
    },
    {
      "cell_type": "markdown",
      "metadata": {
        "id": "_I-RhFKXs0rw",
        "colab_type": "text"
      },
      "source": [
        "# This document is all about giving you the quick introduction to the Numpy with respect to the it's usage in the data science....."
      ]
    },
    {
      "cell_type": "markdown",
      "metadata": {
        "id": "BDtI6d2Xs0rx",
        "colab_type": "text"
      },
      "source": [
        "# I'll be going with the programming approach to grasp the concept we need in numpy"
      ]
    },
    {
      "cell_type": "code",
      "metadata": {
        "id": "4Q5a5_GUs0ry",
        "colab_type": "code",
        "colab": {}
      },
      "source": [
        "import numpy as np"
      ],
      "execution_count": 0,
      "outputs": []
    },
    {
      "cell_type": "code",
      "metadata": {
        "id": "sUelkfiRs0r1",
        "colab_type": "code",
        "colab": {}
      },
      "source": [
        "a = np.array([1,2,3,4,5])"
      ],
      "execution_count": 0,
      "outputs": []
    },
    {
      "cell_type": "code",
      "metadata": {
        "id": "T5peqlDEs0r5",
        "colab_type": "code",
        "colab": {},
        "outputId": "8d34b10a-ef9b-4d18-9cb1-131ad2929f75"
      },
      "source": [
        "print(a)"
      ],
      "execution_count": 0,
      "outputs": [
        {
          "output_type": "stream",
          "text": [
            "[1 2 3 4 5]\n"
          ],
          "name": "stdout"
        }
      ]
    },
    {
      "cell_type": "code",
      "metadata": {
        "id": "6PIj9k8Gs0r8",
        "colab_type": "code",
        "colab": {},
        "outputId": "47237d81-3f2e-48ba-ab72-89d136da5b3b"
      },
      "source": [
        "print(type(a))"
      ],
      "execution_count": 0,
      "outputs": [
        {
          "output_type": "stream",
          "text": [
            "<class 'numpy.ndarray'>\n"
          ],
          "name": "stdout"
        }
      ]
    },
    {
      "cell_type": "code",
      "metadata": {
        "id": "pad8Mj5ns0sA",
        "colab_type": "code",
        "colab": {},
        "outputId": "41b28b82-87c3-46db-f804-bd80fbbb0031"
      },
      "source": [
        "print(a.shape)"
      ],
      "execution_count": 0,
      "outputs": [
        {
          "output_type": "stream",
          "text": [
            "(5,)\n"
          ],
          "name": "stdout"
        }
      ]
    },
    {
      "cell_type": "markdown",
      "metadata": {
        "id": "LRQc0rLgs0sE",
        "colab_type": "text"
      },
      "source": [
        "# After seeing the result from a.shape you find yourself in confusing state....that the array we just created is having dimension as (1,5)....and mind it that you are bit on the right side but not entirely as the numpy work in bit different mannar . Remember array like a-which is just a collection of elements in linear or 1 line . In such case numpy print those array as a list that is horizontally while internally treat it as column matrix(having single vertical line which content element) therefore having multiple rows while having 1 column......remember that they don't even mention the number of column as 1 reason behind it is pretty sure that they want to make certain difference between 1-d array and multi-d array....."
      ]
    },
    {
      "cell_type": "code",
      "metadata": {
        "id": "UXpARuWOs0sG",
        "colab_type": "code",
        "colab": {}
      },
      "source": [
        "b = np.array([[1],[2],[3],[4],[5]])"
      ],
      "execution_count": 0,
      "outputs": []
    },
    {
      "cell_type": "code",
      "metadata": {
        "id": "SouKAN-zs0sK",
        "colab_type": "code",
        "colab": {},
        "outputId": "1faf5d4c-10cc-4f76-f22b-3e8c7de71fa0"
      },
      "source": [
        "print(b)"
      ],
      "execution_count": 0,
      "outputs": [
        {
          "output_type": "stream",
          "text": [
            "[[1]\n",
            " [2]\n",
            " [3]\n",
            " [4]\n",
            " [5]]\n"
          ],
          "name": "stdout"
        }
      ]
    },
    {
      "cell_type": "code",
      "metadata": {
        "id": "AcPyvddYs0sN",
        "colab_type": "code",
        "colab": {},
        "outputId": "2dffff93-22ca-4b79-c7f6-eb5785f8498f"
      },
      "source": [
        "print(b.shape)"
      ],
      "execution_count": 0,
      "outputs": [
        {
          "output_type": "stream",
          "text": [
            "(5, 1)\n"
          ],
          "name": "stdout"
        }
      ]
    },
    {
      "cell_type": "markdown",
      "metadata": {
        "id": "N36e6AVds0sR",
        "colab_type": "text"
      },
      "source": [
        "# Now one question might have arised in your mind that how we are going to access the elements of the array?....solution to this question is pretty obvious that is using square brackets and index value.....just like if i want to access the 4 from above array then this is to the correct way to do so....."
      ]
    },
    {
      "cell_type": "code",
      "metadata": {
        "id": "wmLEXugls0sS",
        "colab_type": "code",
        "colab": {},
        "outputId": "dd0d20ae-1efa-4597-d079-0d0f488dbad4"
      },
      "source": [
        "print(b[3])"
      ],
      "execution_count": 0,
      "outputs": [
        {
          "output_type": "stream",
          "text": [
            "[4]\n"
          ],
          "name": "stdout"
        }
      ]
    },
    {
      "cell_type": "markdown",
      "metadata": {
        "id": "NHUsyk4Bs0sV",
        "colab_type": "text"
      },
      "source": [
        "# The above code is returning the entire 4th row instead of single element that why it is surrounded by the square brackets...."
      ]
    },
    {
      "cell_type": "markdown",
      "metadata": {
        "id": "PUYYeF1us0sW",
        "colab_type": "text"
      },
      "source": [
        "# So in order to extract the only 4 from that array you need to use 2 square brackets...as that array is 2-d array..."
      ]
    },
    {
      "cell_type": "code",
      "metadata": {
        "id": "pjbxXTRfs0sX",
        "colab_type": "code",
        "colab": {},
        "outputId": "ca4bb1aa-a0e9-41c3-971f-c9e24fc5141f"
      },
      "source": [
        "print(b[3][0])"
      ],
      "execution_count": 0,
      "outputs": [
        {
          "output_type": "stream",
          "text": [
            "4\n"
          ],
          "name": "stdout"
        }
      ]
    },
    {
      "cell_type": "code",
      "metadata": {
        "id": "8BrZyR2ds0sb",
        "colab_type": "code",
        "colab": {}
      },
      "source": [
        "c = np.array([[1,2,3],[4,5,6]])"
      ],
      "execution_count": 0,
      "outputs": []
    },
    {
      "cell_type": "code",
      "metadata": {
        "id": "DXbJBCP6s0sf",
        "colab_type": "code",
        "colab": {},
        "outputId": "83eef0e8-56f3-4020-8547-c75cfad9951e"
      },
      "source": [
        "print(c)"
      ],
      "execution_count": 0,
      "outputs": [
        {
          "output_type": "stream",
          "text": [
            "[[1 2 3]\n",
            " [4 5 6]]\n"
          ],
          "name": "stdout"
        }
      ]
    },
    {
      "cell_type": "code",
      "metadata": {
        "id": "kYCElFxgs0si",
        "colab_type": "code",
        "colab": {},
        "outputId": "38cfded2-32b0-4ac0-c40f-177ba91ee3ea"
      },
      "source": [
        "print(c.shape)"
      ],
      "execution_count": 0,
      "outputs": [
        {
          "output_type": "stream",
          "text": [
            "(2, 3)\n"
          ],
          "name": "stdout"
        }
      ]
    },
    {
      "cell_type": "markdown",
      "metadata": {
        "id": "SeKG7PhEs0sm",
        "colab_type": "text"
      },
      "source": [
        "# Now we are going to see the creation of some of the special type of the array or you can say matrix ....which will be directly used while dealing with the data science..."
      ]
    },
    {
      "cell_type": "markdown",
      "metadata": {
        "id": "kcS4bUu1s0sm",
        "colab_type": "text"
      },
      "source": [
        "# All zero's matrix:----"
      ]
    },
    {
      "cell_type": "code",
      "metadata": {
        "id": "IcnNnKn4s0sn",
        "colab_type": "code",
        "colab": {}
      },
      "source": [
        "z = np.zeros((3,3))"
      ],
      "execution_count": 0,
      "outputs": []
    },
    {
      "cell_type": "code",
      "metadata": {
        "id": "pdkygWCrs0sr",
        "colab_type": "code",
        "colab": {},
        "outputId": "cafbd334-3784-44f1-a028-43a7bb069d09"
      },
      "source": [
        "print(z)"
      ],
      "execution_count": 0,
      "outputs": [
        {
          "output_type": "stream",
          "text": [
            "[[0. 0. 0.]\n",
            " [0. 0. 0.]\n",
            " [0. 0. 0.]]\n"
          ],
          "name": "stdout"
        }
      ]
    },
    {
      "cell_type": "code",
      "metadata": {
        "id": "esiaFNVbs0su",
        "colab_type": "code",
        "colab": {},
        "outputId": "bcdbf8fb-3802-4bd9-f3e6-8b63379d840b"
      },
      "source": [
        "print(z.dtype)"
      ],
      "execution_count": 0,
      "outputs": [
        {
          "output_type": "stream",
          "text": [
            "float64\n"
          ],
          "name": "stdout"
        }
      ]
    },
    {
      "cell_type": "code",
      "metadata": {
        "id": "A_ZKeJsKs0sw",
        "colab_type": "code",
        "colab": {}
      },
      "source": [
        "z1 = np.zeros((3,3),dtype = np.int64)"
      ],
      "execution_count": 0,
      "outputs": []
    },
    {
      "cell_type": "code",
      "metadata": {
        "id": "0p2VZ6g4s0sz",
        "colab_type": "code",
        "colab": {},
        "outputId": "f505913b-0584-4e4d-9fc0-c024fec4e541"
      },
      "source": [
        "print(z1)"
      ],
      "execution_count": 0,
      "outputs": [
        {
          "output_type": "stream",
          "text": [
            "[[0 0 0]\n",
            " [0 0 0]\n",
            " [0 0 0]]\n"
          ],
          "name": "stdout"
        }
      ]
    },
    {
      "cell_type": "code",
      "metadata": {
        "id": "cwN53xk9s0s-",
        "colab_type": "code",
        "colab": {},
        "outputId": "b25766df-5816-4558-ef03-143913263765"
      },
      "source": [
        "print(z.dtype)"
      ],
      "execution_count": 0,
      "outputs": [
        {
          "output_type": "stream",
          "text": [
            "float64\n"
          ],
          "name": "stdout"
        }
      ]
    },
    {
      "cell_type": "markdown",
      "metadata": {
        "id": "1h4eLyBNs0tA",
        "colab_type": "text"
      },
      "source": [
        "# All one' Matrix:----"
      ]
    },
    {
      "cell_type": "code",
      "metadata": {
        "id": "yBdbFrRts0tB",
        "colab_type": "code",
        "colab": {}
      },
      "source": [
        "b = np.ones((2,3))"
      ],
      "execution_count": 0,
      "outputs": []
    },
    {
      "cell_type": "code",
      "metadata": {
        "id": "8IExvZ84s0tD",
        "colab_type": "code",
        "colab": {},
        "outputId": "f6102b08-4bf0-493c-aceb-cfe3cab10ad8"
      },
      "source": [
        "print(b)"
      ],
      "execution_count": 0,
      "outputs": [
        {
          "output_type": "stream",
          "text": [
            "[[1. 1. 1.]\n",
            " [1. 1. 1.]]\n"
          ],
          "name": "stdout"
        }
      ]
    },
    {
      "cell_type": "code",
      "metadata": {
        "id": "yOoJw0R8s0tG",
        "colab_type": "code",
        "colab": {},
        "outputId": "21609363-f53d-4b64-be7a-e2702b3fbb58"
      },
      "source": [
        "print(b.dtype)"
      ],
      "execution_count": 0,
      "outputs": [
        {
          "output_type": "stream",
          "text": [
            "float64\n"
          ],
          "name": "stdout"
        }
      ]
    },
    {
      "cell_type": "markdown",
      "metadata": {
        "id": "Qn0MYsa4s0tJ",
        "colab_type": "text"
      },
      "source": [
        "# Matrix with special constant matrix:----"
      ]
    },
    {
      "cell_type": "code",
      "metadata": {
        "id": "YAS4i8Sos0tK",
        "colab_type": "code",
        "colab": {}
      },
      "source": [
        "c = np.full((3,2),5)"
      ],
      "execution_count": 0,
      "outputs": []
    },
    {
      "cell_type": "code",
      "metadata": {
        "id": "kTmlAqsOs0tN",
        "colab_type": "code",
        "colab": {},
        "outputId": "6867c6c1-839b-4d6e-c7d1-3fe856eaaa9f"
      },
      "source": [
        "print(c)"
      ],
      "execution_count": 0,
      "outputs": [
        {
          "output_type": "stream",
          "text": [
            "[[5 5]\n",
            " [5 5]\n",
            " [5 5]]\n"
          ],
          "name": "stdout"
        }
      ]
    },
    {
      "cell_type": "code",
      "metadata": {
        "id": "rc6PR2l5s0tP",
        "colab_type": "code",
        "colab": {},
        "outputId": "a610f04d-5f2c-4c7a-bcd1-eb4df4ffe721"
      },
      "source": [
        "print(c.dtype)"
      ],
      "execution_count": 0,
      "outputs": [
        {
          "output_type": "stream",
          "text": [
            "int64\n"
          ],
          "name": "stdout"
        }
      ]
    },
    {
      "cell_type": "code",
      "metadata": {
        "id": "mzQKSfhxs0tT",
        "colab_type": "code",
        "colab": {}
      },
      "source": [
        "c = np.full((3,2),5.0)"
      ],
      "execution_count": 0,
      "outputs": []
    },
    {
      "cell_type": "code",
      "metadata": {
        "id": "dvlbsBi3s0tW",
        "colab_type": "code",
        "colab": {},
        "outputId": "43b9f660-0b64-4251-a50c-c3dde35d6068"
      },
      "source": [
        "print(c)"
      ],
      "execution_count": 0,
      "outputs": [
        {
          "output_type": "stream",
          "text": [
            "[[5. 5.]\n",
            " [5. 5.]\n",
            " [5. 5.]]\n"
          ],
          "name": "stdout"
        }
      ]
    },
    {
      "cell_type": "code",
      "metadata": {
        "id": "yKhbJlnRs0tY",
        "colab_type": "code",
        "colab": {},
        "outputId": "1ebacc97-0a04-4079-d3d5-9c4b18f99fce"
      },
      "source": [
        "print(c.dtype)"
      ],
      "execution_count": 0,
      "outputs": [
        {
          "output_type": "stream",
          "text": [
            "float64\n"
          ],
          "name": "stdout"
        }
      ]
    },
    {
      "cell_type": "markdown",
      "metadata": {
        "id": "6sNwT8hds0tb",
        "colab_type": "text"
      },
      "source": [
        "# Indentity Matrix ---square matrix in nature:----"
      ]
    },
    {
      "cell_type": "code",
      "metadata": {
        "id": "QcbKGTFTs0td",
        "colab_type": "code",
        "colab": {}
      },
      "source": [
        "d = np.eye(4)"
      ],
      "execution_count": 0,
      "outputs": []
    },
    {
      "cell_type": "code",
      "metadata": {
        "id": "k3Uf1Jp9s0tf",
        "colab_type": "code",
        "colab": {},
        "outputId": "10602004-4d02-4ab2-973d-17dbc54e5f01"
      },
      "source": [
        "print(d)"
      ],
      "execution_count": 0,
      "outputs": [
        {
          "output_type": "stream",
          "text": [
            "[[1. 0. 0. 0.]\n",
            " [0. 1. 0. 0.]\n",
            " [0. 0. 1. 0.]\n",
            " [0. 0. 0. 1.]]\n"
          ],
          "name": "stdout"
        }
      ]
    },
    {
      "cell_type": "code",
      "metadata": {
        "id": "Grjlr6_ds0th",
        "colab_type": "code",
        "colab": {},
        "outputId": "6104299c-2839-4f50-b353-1ccc6265dd9b"
      },
      "source": [
        "print(d.dtype)"
      ],
      "execution_count": 0,
      "outputs": [
        {
          "output_type": "stream",
          "text": [
            "float64\n"
          ],
          "name": "stdout"
        }
      ]
    },
    {
      "cell_type": "markdown",
      "metadata": {
        "id": "pjfSyJYEs0tj",
        "colab_type": "text"
      },
      "source": [
        "# Random matrix:----"
      ]
    },
    {
      "cell_type": "code",
      "metadata": {
        "id": "OwfLnlCLs0tk",
        "colab_type": "code",
        "colab": {}
      },
      "source": [
        "rm = np.random.random((4,4))"
      ],
      "execution_count": 0,
      "outputs": []
    },
    {
      "cell_type": "code",
      "metadata": {
        "id": "5_CU0kZms0tm",
        "colab_type": "code",
        "colab": {},
        "outputId": "ce5df2a6-7e98-46a9-d6f4-8456bf43513b"
      },
      "source": [
        "print(rm)"
      ],
      "execution_count": 0,
      "outputs": [
        {
          "output_type": "stream",
          "text": [
            "[[0.33017323 0.98801894 0.93080262 0.74906463]\n",
            " [0.52817883 0.16165725 0.20771838 0.99960809]\n",
            " [0.41042356 0.14133703 0.07175676 0.63018793]\n",
            " [0.45390186 0.87021286 0.23405174 0.1524498 ]]\n"
          ],
          "name": "stdout"
        }
      ]
    },
    {
      "cell_type": "markdown",
      "metadata": {
        "id": "y5vlSJyys0tp",
        "colab_type": "text"
      },
      "source": [
        "# Slicing operation or you can say selection or extraction operation has the same old methodology working for the numpy array also....which is likewise... "
      ]
    },
    {
      "cell_type": "markdown",
      "metadata": {
        "id": "EYTXEZNvs0tp",
        "colab_type": "text"
      },
      "source": [
        "# array-name[ indexing for 1st dimension, indexing for the 2nd dimension] while this indexing for the 1st and 2nd dimension further have 2 parts...i.e. starting index and ending index....but remember that starting is inclusive while ending is exclusive....."
      ]
    },
    {
      "cell_type": "markdown",
      "metadata": {
        "id": "89QZ1SUms0tq",
        "colab_type": "text"
      },
      "source": [
        "# Now let us consider the scenario in which we have to print only 3rd row mid elements....then this will be your approach"
      ]
    },
    {
      "cell_type": "code",
      "metadata": {
        "id": "V4_3ABs8s0tq",
        "colab_type": "code",
        "colab": {},
        "outputId": "74a9b45a-f069-46a2-ad10-fc7f9eaf57bb"
      },
      "source": [
        "print(rm[2:3,1:3])"
      ],
      "execution_count": 0,
      "outputs": [
        {
          "output_type": "stream",
          "text": [
            "[[0.14133703 0.07175676]]\n"
          ],
          "name": "stdout"
        }
      ]
    },
    {
      "cell_type": "markdown",
      "metadata": {
        "id": "48dxwGQns0ts",
        "colab_type": "text"
      },
      "source": [
        "# Now let's see how to set the value of some rows and columns with certain value:----"
      ]
    },
    {
      "cell_type": "code",
      "metadata": {
        "id": "HQa0meASs0tt",
        "colab_type": "code",
        "colab": {},
        "outputId": "16cea013-204c-42f4-903e-6d47cd1b3890"
      },
      "source": [
        "z = np.zeros((3,3))\n",
        "print(z)"
      ],
      "execution_count": 0,
      "outputs": [
        {
          "output_type": "stream",
          "text": [
            "[[0. 0. 0.]\n",
            " [0. 0. 0.]\n",
            " [0. 0. 0.]]\n"
          ],
          "name": "stdout"
        }
      ]
    },
    {
      "cell_type": "code",
      "metadata": {
        "id": "QeguT6oJs0tv",
        "colab_type": "code",
        "colab": {}
      },
      "source": [
        "z[1,:] = 5"
      ],
      "execution_count": 0,
      "outputs": []
    },
    {
      "cell_type": "code",
      "metadata": {
        "id": "2Isom4Cps0ty",
        "colab_type": "code",
        "colab": {},
        "outputId": "54072794-cc54-4061-f392-7c2a1375bab3"
      },
      "source": [
        "print(z)"
      ],
      "execution_count": 0,
      "outputs": [
        {
          "output_type": "stream",
          "text": [
            "[[0. 0. 0.]\n",
            " [5. 5. 5.]\n",
            " [0. 0. 0.]]\n"
          ],
          "name": "stdout"
        }
      ]
    },
    {
      "cell_type": "markdown",
      "metadata": {
        "id": "1iqWnkW_s0t1",
        "colab_type": "text"
      },
      "source": [
        "# Now as I've already discussed about data type i.e. dtype and how to change it? I think it doesn't need to be discussed any more in this practical based guide...."
      ]
    },
    {
      "cell_type": "markdown",
      "metadata": {
        "id": "kf9Kpd62s0t2",
        "colab_type": "text"
      },
      "source": [
        "# Now let's see some of the mathematical operation that we can perform on the numpy array....and remember that the operation which I'm going to study is basically is element-wise mathematical operation and thus require the shape to be exactly the same in oder to keep the operation carried on..."
      ]
    },
    {
      "cell_type": "code",
      "metadata": {
        "id": "A-CIvhn0s0t3",
        "colab_type": "code",
        "colab": {}
      },
      "source": [
        "x = np.array([[1,2],[3,4]])\n",
        "y = np.array([[5,6],[7,8]])\n",
        "z = np.random.random((2,3))"
      ],
      "execution_count": 0,
      "outputs": []
    },
    {
      "cell_type": "code",
      "metadata": {
        "id": "96UtmkFcs0t5",
        "colab_type": "code",
        "colab": {},
        "outputId": "c59ec132-8d48-4b05-a0a6-bc092211bafb"
      },
      "source": [
        "print(x)\n",
        "print(y)\n",
        "print(z)"
      ],
      "execution_count": 0,
      "outputs": [
        {
          "output_type": "stream",
          "text": [
            "[[1 2]\n",
            " [3 4]]\n",
            "[[5 6]\n",
            " [7 8]]\n",
            "[[0.16889119 0.04813905 0.25903977]\n",
            " [0.36110031 0.57632487 0.9566749 ]]\n"
          ],
          "name": "stdout"
        }
      ]
    },
    {
      "cell_type": "code",
      "metadata": {
        "id": "sxUqXXuXs0t8",
        "colab_type": "code",
        "colab": {},
        "outputId": "19d99867-8674-49a3-87d0-5838f6c8d69f"
      },
      "source": [
        "print(x+y)"
      ],
      "execution_count": 0,
      "outputs": [
        {
          "output_type": "stream",
          "text": [
            "[[ 6  8]\n",
            " [10 12]]\n"
          ],
          "name": "stdout"
        }
      ]
    },
    {
      "cell_type": "code",
      "metadata": {
        "id": "bJrSSLr7s0t_",
        "colab_type": "code",
        "colab": {},
        "outputId": "23269339-fdb3-4844-e010-63fd5a201931"
      },
      "source": [
        "print(x+z)"
      ],
      "execution_count": 0,
      "outputs": [
        {
          "output_type": "error",
          "ename": "ValueError",
          "evalue": "operands could not be broadcast together with shapes (2,2) (2,3) ",
          "traceback": [
            "\u001b[0;31m---------------------------------------------------------------------------\u001b[0m",
            "\u001b[0;31mValueError\u001b[0m                                Traceback (most recent call last)",
            "\u001b[0;32m<ipython-input-47-7c8ea62b4603>\u001b[0m in \u001b[0;36m<module>\u001b[0;34m\u001b[0m\n\u001b[0;32m----> 1\u001b[0;31m \u001b[0mprint\u001b[0m\u001b[0;34m(\u001b[0m\u001b[0mx\u001b[0m\u001b[0;34m+\u001b[0m\u001b[0mz\u001b[0m\u001b[0;34m)\u001b[0m\u001b[0;34m\u001b[0m\u001b[0;34m\u001b[0m\u001b[0m\n\u001b[0m",
            "\u001b[0;31mValueError\u001b[0m: operands could not be broadcast together with shapes (2,2) (2,3) "
          ]
        }
      ]
    },
    {
      "cell_type": "code",
      "metadata": {
        "id": "KjlysCXds0uC",
        "colab_type": "code",
        "colab": {},
        "outputId": "b8782162-0314-4042-9a44-97bf8a74c64b"
      },
      "source": [
        "print(np.add(x,y))"
      ],
      "execution_count": 0,
      "outputs": [
        {
          "output_type": "stream",
          "text": [
            "[[ 6  8]\n",
            " [10 12]]\n"
          ],
          "name": "stdout"
        }
      ]
    },
    {
      "cell_type": "code",
      "metadata": {
        "id": "AJpZ5Uims0uE",
        "colab_type": "code",
        "colab": {},
        "outputId": "1ae4adeb-1af0-4e54-a443-bf175e1647dc"
      },
      "source": [
        "print(np.add(x,z))"
      ],
      "execution_count": 0,
      "outputs": [
        {
          "output_type": "error",
          "ename": "ValueError",
          "evalue": "operands could not be broadcast together with shapes (2,2) (2,3) ",
          "traceback": [
            "\u001b[0;31m---------------------------------------------------------------------------\u001b[0m",
            "\u001b[0;31mValueError\u001b[0m                                Traceback (most recent call last)",
            "\u001b[0;32m<ipython-input-49-76b84dcb0819>\u001b[0m in \u001b[0;36m<module>\u001b[0;34m\u001b[0m\n\u001b[0;32m----> 1\u001b[0;31m \u001b[0mprint\u001b[0m\u001b[0;34m(\u001b[0m\u001b[0mnp\u001b[0m\u001b[0;34m.\u001b[0m\u001b[0madd\u001b[0m\u001b[0;34m(\u001b[0m\u001b[0mx\u001b[0m\u001b[0;34m,\u001b[0m\u001b[0mz\u001b[0m\u001b[0;34m)\u001b[0m\u001b[0;34m)\u001b[0m\u001b[0;34m\u001b[0m\u001b[0;34m\u001b[0m\u001b[0m\n\u001b[0m",
            "\u001b[0;31mValueError\u001b[0m: operands could not be broadcast together with shapes (2,2) (2,3) "
          ]
        }
      ]
    },
    {
      "cell_type": "code",
      "metadata": {
        "id": "3F4MOuXBs0uG",
        "colab_type": "code",
        "colab": {},
        "outputId": "0bcf2844-2e8d-4f7e-8b37-a5b76fb078e2"
      },
      "source": [
        "print(x-y)\n",
        "print(np.subtract(x,y))"
      ],
      "execution_count": 0,
      "outputs": [
        {
          "output_type": "stream",
          "text": [
            "[[-4 -4]\n",
            " [-4 -4]]\n",
            "[[-4 -4]\n",
            " [-4 -4]]\n"
          ],
          "name": "stdout"
        }
      ]
    },
    {
      "cell_type": "markdown",
      "metadata": {
        "id": "p98ARJSQs0uO",
        "colab_type": "text"
      },
      "source": [
        "# This element-wise multiplication is having special name , called as Hadamard Product.....which I'll be discussing it later in this document.....for time being just remember the term name...."
      ]
    },
    {
      "cell_type": "code",
      "metadata": {
        "id": "K5ZkBp1-s0uP",
        "colab_type": "code",
        "colab": {},
        "outputId": "6c4d8c26-ec97-4b7a-c0a3-220af7d5038e"
      },
      "source": [
        "print(x*y)\n",
        "print(np.multiply(x,y))"
      ],
      "execution_count": 0,
      "outputs": [
        {
          "output_type": "stream",
          "text": [
            "[[ 5 12]\n",
            " [21 32]]\n",
            "[[ 5 12]\n",
            " [21 32]]\n"
          ],
          "name": "stdout"
        }
      ]
    },
    {
      "cell_type": "code",
      "metadata": {
        "id": "w6sZ3EGNs0uT",
        "colab_type": "code",
        "colab": {},
        "outputId": "0bbf7b99-ebb7-436f-d831-9d6212d1028c"
      },
      "source": [
        "print(x/y)\n",
        "print(np.divide(x,y))"
      ],
      "execution_count": 0,
      "outputs": [
        {
          "output_type": "stream",
          "text": [
            "[[0.2        0.33333333]\n",
            " [0.42857143 0.5       ]]\n",
            "[[0.2        0.33333333]\n",
            " [0.42857143 0.5       ]]\n"
          ],
          "name": "stdout"
        }
      ]
    },
    {
      "cell_type": "code",
      "metadata": {
        "id": "qVd9druPs0uX",
        "colab_type": "code",
        "colab": {},
        "outputId": "955dd433-d9b8-4ab4-f774-8b968d248c8a"
      },
      "source": [
        "print(np.sqrt(x))"
      ],
      "execution_count": 0,
      "outputs": [
        {
          "output_type": "stream",
          "text": [
            "[[1.         1.41421356]\n",
            " [1.73205081 2.        ]]\n"
          ],
          "name": "stdout"
        }
      ]
    },
    {
      "cell_type": "code",
      "metadata": {
        "id": "Bkvhp-X3s0uZ",
        "colab_type": "code",
        "colab": {}
      },
      "source": [
        ""
      ],
      "execution_count": 0,
      "outputs": []
    },
    {
      "cell_type": "code",
      "metadata": {
        "id": "XXceFUlps0ua",
        "colab_type": "code",
        "colab": {}
      },
      "source": [
        ""
      ],
      "execution_count": 0,
      "outputs": []
    },
    {
      "cell_type": "code",
      "metadata": {
        "id": "wtlz79rxs0uc",
        "colab_type": "code",
        "colab": {}
      },
      "source": [
        ""
      ],
      "execution_count": 0,
      "outputs": []
    },
    {
      "cell_type": "code",
      "metadata": {
        "id": "26R3ewkas0uf",
        "colab_type": "code",
        "colab": {}
      },
      "source": [
        ""
      ],
      "execution_count": 0,
      "outputs": []
    },
    {
      "cell_type": "code",
      "metadata": {
        "id": "f4K7w81es0uh",
        "colab_type": "code",
        "colab": {}
      },
      "source": [
        ""
      ],
      "execution_count": 0,
      "outputs": []
    },
    {
      "cell_type": "code",
      "metadata": {
        "id": "QXF9ok2-s0ui",
        "colab_type": "code",
        "colab": {}
      },
      "source": [
        ""
      ],
      "execution_count": 0,
      "outputs": []
    },
    {
      "cell_type": "code",
      "metadata": {
        "id": "90ARnvp-s0uj",
        "colab_type": "code",
        "colab": {}
      },
      "source": [
        ""
      ],
      "execution_count": 0,
      "outputs": []
    },
    {
      "cell_type": "code",
      "metadata": {
        "id": "CLYwcr_Rs0ul",
        "colab_type": "code",
        "colab": {}
      },
      "source": [
        ""
      ],
      "execution_count": 0,
      "outputs": []
    },
    {
      "cell_type": "code",
      "metadata": {
        "id": "nuf2_nmls0up",
        "colab_type": "code",
        "colab": {}
      },
      "source": [
        ""
      ],
      "execution_count": 0,
      "outputs": []
    },
    {
      "cell_type": "code",
      "metadata": {
        "id": "LFirfETgs0ur",
        "colab_type": "code",
        "colab": {}
      },
      "source": [
        ""
      ],
      "execution_count": 0,
      "outputs": []
    },
    {
      "cell_type": "code",
      "metadata": {
        "id": "MszfYTFxs0us",
        "colab_type": "code",
        "colab": {}
      },
      "source": [
        ""
      ],
      "execution_count": 0,
      "outputs": []
    },
    {
      "cell_type": "code",
      "metadata": {
        "id": "S7W1ySO3s0uv",
        "colab_type": "code",
        "colab": {}
      },
      "source": [
        ""
      ],
      "execution_count": 0,
      "outputs": []
    },
    {
      "cell_type": "code",
      "metadata": {
        "id": "pj5f7l4Ss0uw",
        "colab_type": "code",
        "colab": {}
      },
      "source": [
        ""
      ],
      "execution_count": 0,
      "outputs": []
    },
    {
      "cell_type": "code",
      "metadata": {
        "id": "7OQJH8Krs0ux",
        "colab_type": "code",
        "colab": {}
      },
      "source": [
        ""
      ],
      "execution_count": 0,
      "outputs": []
    },
    {
      "cell_type": "code",
      "metadata": {
        "id": "N0T71JSVs0uz",
        "colab_type": "code",
        "colab": {}
      },
      "source": [
        ""
      ],
      "execution_count": 0,
      "outputs": []
    }
  ]
}