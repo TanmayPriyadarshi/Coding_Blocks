{
  "nbformat": 4,
  "nbformat_minor": 0,
  "metadata": {
    "colab": {
      "name": "MnistDatasetAnalysis.ipynb",
      "provenance": [],
      "authorship_tag": "ABX9TyOM2zmc96EizekkJFc8QHyV",
      "include_colab_link": true
    },
    "kernelspec": {
      "name": "python3",
      "display_name": "Python 3"
    }
  },
  "cells": [
    {
      "cell_type": "markdown",
      "metadata": {
        "id": "view-in-github",
        "colab_type": "text"
      },
      "source": [
        "<a href=\"https://colab.research.google.com/github/TanmayPriyadarshi/Coding_Blocks/blob/master/MnistDatasetAnalysis.ipynb\" target=\"_parent\"><img src=\"https://colab.research.google.com/assets/colab-badge.svg\" alt=\"Open In Colab\"/></a>"
      ]
    },
    {
      "cell_type": "code",
      "metadata": {
        "id": "rhFuvxdEQHsz",
        "colab_type": "code",
        "colab": {}
      },
      "source": [
        "import numpy as np\n",
        "import pandas as pd\n",
        "import matplotlib.pyplot as plt"
      ],
      "execution_count": 0,
      "outputs": []
    },
    {
      "cell_type": "code",
      "metadata": {
        "id": "Q1WBYoqtScLO",
        "colab_type": "code",
        "colab": {}
      },
      "source": [
        "df = pd.read_csv(\"https://raw.githubusercontent.com/coding-blocks-archives/machine-learning-online-2018/master/5.%20K-Nearest%20Neighbours/train.csv\")"
      ],
      "execution_count": 0,
      "outputs": []
    },
    {
      "cell_type": "code",
      "metadata": {
        "id": "D0ubMNvaS4x7",
        "colab_type": "code",
        "colab": {
          "base_uri": "https://localhost:8080/",
          "height": 34
        },
        "outputId": "104864a7-3095-42a5-b4bf-9c5c4cb6975f"
      },
      "source": [
        "print(df.shape)"
      ],
      "execution_count": 4,
      "outputs": [
        {
          "output_type": "stream",
          "text": [
            "(42000, 785)\n"
          ],
          "name": "stdout"
        }
      ]
    },
    {
      "cell_type": "code",
      "metadata": {
        "id": "cSVsLXp1S9MB",
        "colab_type": "code",
        "colab": {
          "base_uri": "https://localhost:8080/",
          "height": 119
        },
        "outputId": "c9ae719d-f5bf-45de-f382-1e9ac200d35c"
      },
      "source": [
        "df.columns"
      ],
      "execution_count": 5,
      "outputs": [
        {
          "output_type": "execute_result",
          "data": {
            "text/plain": [
              "Index(['label', 'pixel0', 'pixel1', 'pixel2', 'pixel3', 'pixel4', 'pixel5',\n",
              "       'pixel6', 'pixel7', 'pixel8',\n",
              "       ...\n",
              "       'pixel774', 'pixel775', 'pixel776', 'pixel777', 'pixel778', 'pixel779',\n",
              "       'pixel780', 'pixel781', 'pixel782', 'pixel783'],\n",
              "      dtype='object', length=785)"
            ]
          },
          "metadata": {
            "tags": []
          },
          "execution_count": 5
        }
      ]
    },
    {
      "cell_type": "code",
      "metadata": {
        "id": "-fdJMQRtS_9B",
        "colab_type": "code",
        "colab": {
          "base_uri": "https://localhost:8080/",
          "height": 136
        },
        "outputId": "aa867901-5b62-4681-e28d-e0d0c0808ff8"
      },
      "source": [
        "print(df.head(n=4))"
      ],
      "execution_count": 6,
      "outputs": [
        {
          "output_type": "stream",
          "text": [
            "   label  pixel0  pixel1  pixel2  ...  pixel780  pixel781  pixel782  pixel783\n",
            "0      1       0       0       0  ...         0         0         0         0\n",
            "1      0       0       0       0  ...         0         0         0         0\n",
            "2      1       0       0       0  ...         0         0         0         0\n",
            "3      4       0       0       0  ...         0         0         0         0\n",
            "\n",
            "[4 rows x 785 columns]\n"
          ],
          "name": "stdout"
        }
      ]
    },
    {
      "cell_type": "code",
      "metadata": {
        "id": "Z1fxc5AaTLRT",
        "colab_type": "code",
        "colab": {
          "base_uri": "https://localhost:8080/",
          "height": 34
        },
        "outputId": "a31f36ff-4810-40c7-80d6-c0f04722645e"
      },
      "source": [
        "print(type(df))"
      ],
      "execution_count": 7,
      "outputs": [
        {
          "output_type": "stream",
          "text": [
            "<class 'pandas.core.frame.DataFrame'>\n"
          ],
          "name": "stdout"
        }
      ]
    },
    {
      "cell_type": "code",
      "metadata": {
        "id": "FbYQAlqpTslI",
        "colab_type": "code",
        "colab": {
          "base_uri": "https://localhost:8080/",
          "height": 34
        },
        "outputId": "8716633e-fb99-49aa-d978-6e91e391c541"
      },
      "source": [
        "data = df.values\n",
        "print(type(data))"
      ],
      "execution_count": 9,
      "outputs": [
        {
          "output_type": "stream",
          "text": [
            "<class 'numpy.ndarray'>\n"
          ],
          "name": "stdout"
        }
      ]
    },
    {
      "cell_type": "code",
      "metadata": {
        "id": "E1CgUW9YT0CT",
        "colab_type": "code",
        "colab": {
          "base_uri": "https://localhost:8080/",
          "height": 34
        },
        "outputId": "66f93abc-24c0-4d82-8376-e0f5c4350b24"
      },
      "source": [
        "print(data.shape)"
      ],
      "execution_count": 10,
      "outputs": [
        {
          "output_type": "stream",
          "text": [
            "(42000, 785)\n"
          ],
          "name": "stdout"
        }
      ]
    },
    {
      "cell_type": "code",
      "metadata": {
        "id": "bN__IONYT5-r",
        "colab_type": "code",
        "colab": {}
      },
      "source": [
        "X = data[:,1:]\n",
        "Y = data[:,0]"
      ],
      "execution_count": 0,
      "outputs": []
    },
    {
      "cell_type": "code",
      "metadata": {
        "id": "vMWyouW1UQbQ",
        "colab_type": "code",
        "colab": {
          "base_uri": "https://localhost:8080/",
          "height": 51
        },
        "outputId": "69b9f54c-bd2f-4129-f7a4-42db9f942904"
      },
      "source": [
        "print(X.shape)\n",
        "print(Y.shape)\n"
      ],
      "execution_count": 12,
      "outputs": [
        {
          "output_type": "stream",
          "text": [
            "(42000, 784)\n",
            "(42000,)\n"
          ],
          "name": "stdout"
        }
      ]
    },
    {
      "cell_type": "code",
      "metadata": {
        "id": "bj0kRikaUUav",
        "colab_type": "code",
        "colab": {
          "base_uri": "https://localhost:8080/",
          "height": 34
        },
        "outputId": "ec676801-557c-4cc6-e351-76a6080ee970"
      },
      "source": [
        "print(Y)"
      ],
      "execution_count": 13,
      "outputs": [
        {
          "output_type": "stream",
          "text": [
            "[1 0 1 ... 7 6 9]\n"
          ],
          "name": "stdout"
        }
      ]
    },
    {
      "cell_type": "code",
      "metadata": {
        "id": "kXWjhPWyUlYZ",
        "colab_type": "code",
        "colab": {
          "base_uri": "https://localhost:8080/",
          "height": 969
        },
        "outputId": "7bda4c33-4d41-4acd-a1dc-a80de0bd63a3"
      },
      "source": [
        "img = X[3].reshape((28,28))\n",
        "print(img)"
      ],
      "execution_count": 14,
      "outputs": [
        {
          "output_type": "stream",
          "text": [
            "[[  0   0   0   0   0   0   0   0   0   0   0   0   0   0   0   0   0   0\n",
            "    0   0   0   0   0   0   0   0   0   0]\n",
            " [  0   0   0   0   0   0   0   0   0   0   0   0   0   0   0   0   0   0\n",
            "    0   0   0   0   0   0   0   0   0   0]\n",
            " [  0   0   0   0   0   0   0   0   0   0   0   0   0   0   0   0   0   0\n",
            "    0   0   0   0   0   0   0   0   0   0]\n",
            " [  0   0   0   0   0   0   0   0   0   0   0   0   0   0   0   0   0   0\n",
            "    0   0   0   0   0   0   0   0   0   0]\n",
            " [  0   0   0   0   0   0   0   0   0   0   0   0   0   0   0   0   0   0\n",
            "    0   0   0   0   0   0   0   0   0   0]\n",
            " [  0   0   0   0   0   0 220 179   6   0   0   0   0   0   0   0   0   9\n",
            "   77   0   0   0   0   0   0   0   0   0]\n",
            " [  0   0   0   0   0   0  28 247  17   0   0   0   0   0   0   0   0  27\n",
            "  202   0   0   0   0   0   0   0   0   0]\n",
            " [  0   0   0   0   0   0   0 242 155   0   0   0   0   0   0   0   0  27\n",
            "  254  63   0   0   0   0   0   0   0   0]\n",
            " [  0   0   0   0   0   0   0 160 207   6   0   0   0   0   0   0   0  27\n",
            "  254  65   0   0   0   0   0   0   0   0]\n",
            " [  0   0   0   0   0   0   0 127 254  21   0   0   0   0   0   0   0  20\n",
            "  239  65   0   0   0   0   0   0   0   0]\n",
            " [  0   0   0   0   0   0   0  77 254  21   0   0   0   0   0   0   0   0\n",
            "  195  65   0   0   0   0   0   0   0   0]\n",
            " [  0   0   0   0   0   0   0  70 254  21   0   0   0   0   0   0   0   0\n",
            "  195 142   0   0   0   0   0   0   0   0]\n",
            " [  0   0   0   0   0   0   0  56 251  21   0   0   0   0   0   0   0   0\n",
            "  195 227   0   0   0   0   0   0   0   0]\n",
            " [  0   0   0   0   0   0   0   0 222 153   5   0   0   0   0   0   0   0\n",
            "  120 240  13   0   0   0   0   0   0   0]\n",
            " [  0   0   0   0   0   0   0   0  67 251  40   0   0   0   0   0   0   0\n",
            "   94 255  69   0   0   0   0   0   0   0]\n",
            " [  0   0   0   0   0   0   0   0   0 234 184   0   0   0   0   0   0   0\n",
            "   19 245  69   0   0   0   0   0   0   0]\n",
            " [  0   0   0   0   0   0   0   0   0 234 169   0   0   0   0   0   0   0\n",
            "    3 199 182  10   0   0   0   0   0   0]\n",
            " [  0   0   0   0   0   0   0   0   0 154 205   4   0   0  26  72 128 203\n",
            "  208 254 254 131   0   0   0   0   0   0]\n",
            " [  0   0   0   0   0   0   0   0   0  61 254 129 113 186 245 251 189  75\n",
            "   56 136 254  73   0   0   0   0   0   0]\n",
            " [  0   0   0   0   0   0   0   0   0  15 216 233 233 159 104  52   0   0\n",
            "    0  38 254  73   0   0   0   0   0   0]\n",
            " [  0   0   0   0   0   0   0   0   0   0   0   0   0   0   0   0   0   0\n",
            "    0  18 254  73   0   0   0   0   0   0]\n",
            " [  0   0   0   0   0   0   0   0   0   0   0   0   0   0   0   0   0   0\n",
            "    0  18 254  73   0   0   0   0   0   0]\n",
            " [  0   0   0   0   0   0   0   0   0   0   0   0   0   0   0   0   0   0\n",
            "    0   5 206 106   0   0   0   0   0   0]\n",
            " [  0   0   0   0   0   0   0   0   0   0   0   0   0   0   0   0   0   0\n",
            "    0   0 186 159   0   0   0   0   0   0]\n",
            " [  0   0   0   0   0   0   0   0   0   0   0   0   0   0   0   0   0   0\n",
            "    0   6 209 101   0   0   0   0   0   0]\n",
            " [  0   0   0   0   0   0   0   0   0   0   0   0   0   0   0   0   0   0\n",
            "    0   0   0   0   0   0   0   0   0   0]\n",
            " [  0   0   0   0   0   0   0   0   0   0   0   0   0   0   0   0   0   0\n",
            "    0   0   0   0   0   0   0   0   0   0]\n",
            " [  0   0   0   0   0   0   0   0   0   0   0   0   0   0   0   0   0   0\n",
            "    0   0   0   0   0   0   0   0   0   0]]\n"
          ],
          "name": "stdout"
        }
      ]
    },
    {
      "cell_type": "code",
      "metadata": {
        "id": "rXkXaA8NVIqt",
        "colab_type": "code",
        "colab": {
          "base_uri": "https://localhost:8080/",
          "height": 282
        },
        "outputId": "345060c9-22f1-489a-987a-84eac10de141"
      },
      "source": [
        "print(Y[3])\n",
        "plt.imshow(img,cmap='gray')\n",
        "plt.show()"
      ],
      "execution_count": 15,
      "outputs": [
        {
          "output_type": "stream",
          "text": [
            "4\n"
          ],
          "name": "stdout"
        },
        {
          "output_type": "display_data",
          "data": {
            "image/png": "[encoded data removed]",
            "text/plain": [
              "<Figure size 432x288 with 1 Axes>"
            ]
          },
          "metadata": {
            "tags": []
          }
        }
      ]
    },
    {
      "cell_type": "code",
      "metadata": {
        "id": "VP9zAKwdVe8o",
        "colab_type": "code",
        "colab": {
          "base_uri": "https://localhost:8080/",
          "height": 51
        },
        "outputId": "ac34bdf1-0054-4ac3-f15e-3edd96fa5afe"
      },
      "source": [
        "print(type(X.shape))\n",
        "print(X.shape[0])"
      ],
      "execution_count": 17,
      "outputs": [
        {
          "output_type": "stream",
          "text": [
            "<class 'tuple'>\n",
            "42000\n"
          ],
          "name": "stdout"
        }
      ]
    },
    {
      "cell_type": "code",
      "metadata": {
        "id": "efKSn0AtfuGj",
        "colab_type": "code",
        "colab": {
          "base_uri": "https://localhost:8080/",
          "height": 102
        },
        "outputId": "1fc739fc-fde5-46a6-c025-605a8cbf5413"
      },
      "source": [
        "split = int(0.80*X.shape[0])\n",
        "print(split)\n",
        "x_tr,y_tr = X[:split,:],Y[:split]# remember if it is giving too many indices it means we using extra dimension while slicing\n",
        "print(x_tr.shape)\n",
        "print(y_tr.shape)\n",
        "x_te,y_te = X[split:,:],Y[split:]\n",
        "print(x_te.shape)\n",
        "print(y_te.shape)"
      ],
      "execution_count": 24,
      "outputs": [
        {
          "output_type": "stream",
          "text": [
            "33600\n",
            "(33600, 784)\n",
            "(33600,)\n",
            "(8400, 784)\n",
            "(8400,)\n"
          ],
          "name": "stdout"
        }
      ]
    },
    {
      "cell_type": "code",
      "metadata": {
        "id": "Xmi90mLJVR81",
        "colab_type": "code",
        "colab": {}
      },
      "source": [
        ""
      ],
      "execution_count": 0,
      "outputs": []
    },
    {
      "cell_type": "code",
      "metadata": {
        "id": "Dm_9CkxaUbS5",
        "colab_type": "code",
        "colab": {}
      },
      "source": [
        ""
      ],
      "execution_count": 0,
      "outputs": []
    },
    {
      "cell_type": "code",
      "metadata": {
        "id": "cE3DtdCpTIAA",
        "colab_type": "code",
        "colab": {}
      },
      "source": [
        ""
      ],
      "execution_count": 0,
      "outputs": []
    }
  ]
}