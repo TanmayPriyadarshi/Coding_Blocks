{
  "nbformat": 4,
  "nbformat_minor": 0,
  "metadata": {
    "kernelspec": {
      "display_name": "Python 3",
      "language": "python",
      "name": "python3"
    },
    "language_info": {
      "codemirror_mode": {
        "name": "ipython",
        "version": 3
      },
      "file_extension": ".py",
      "mimetype": "text/x-python",
      "name": "python",
      "nbconvert_exporter": "python",
      "pygments_lexer": "ipython3",
      "version": "3.7.4"
    },
    "colab": {
      "name": "Python Data Structure----Basics.ipynb",
      "provenance": [],
      "include_colab_link": true
    }
  },
  "cells": [
    {
      "cell_type": "markdown",
      "metadata": {
        "id": "view-in-github",
        "colab_type": "text"
      },
      "source": [
        "<a href=\"https://colab.research.google.com/github/TanmayPriyadarshi/Coding_Blocks/blob/master/Python_Data_Structure_Basics.ipynb\" target=\"_parent\"><img src=\"https://colab.research.google.com/assets/colab-badge.svg\" alt=\"Open In Colab\"/></a>"
      ]
    },
    {
      "cell_type": "markdown",
      "metadata": {
        "id": "12j_GtGIsK-v",
        "colab_type": "text"
      },
      "source": [
        "# Python - Lists as data structure"
      ]
    },
    {
      "cell_type": "markdown",
      "metadata": {
        "id": "nlRxuSjDsK-y",
        "colab_type": "text"
      },
      "source": [
        "# Built-in Data Types in Python\n",
        "# 0.)Strings\n",
        "# 1.)Lists\n",
        "# 2.)Tuples\n",
        "# 3.)Dictionaries\n",
        "# 4.)Sets"
      ]
    },
    {
      "cell_type": "code",
      "metadata": {
        "id": "fpJLiwhosK-z",
        "colab_type": "code",
        "colab": {}
      },
      "source": [
        ""
      ],
      "execution_count": 0,
      "outputs": []
    },
    {
      "cell_type": "code",
      "metadata": {
        "id": "8leaxpGwsK-2",
        "colab_type": "code",
        "colab": {}
      },
      "source": [
        ""
      ],
      "execution_count": 0,
      "outputs": []
    },
    {
      "cell_type": "code",
      "metadata": {
        "id": "UVWaiv15sK-5",
        "colab_type": "code",
        "colab": {}
      },
      "source": [
        ""
      ],
      "execution_count": 0,
      "outputs": []
    },
    {
      "cell_type": "code",
      "metadata": {
        "id": "yhHDb2o4sK-8",
        "colab_type": "code",
        "colab": {}
      },
      "source": [
        ""
      ],
      "execution_count": 0,
      "outputs": []
    },
    {
      "cell_type": "code",
      "metadata": {
        "id": "qNrd82zWsK--",
        "colab_type": "code",
        "colab": {}
      },
      "source": [
        ""
      ],
      "execution_count": 0,
      "outputs": []
    },
    {
      "cell_type": "code",
      "metadata": {
        "id": "fLtEJf_CsK_B",
        "colab_type": "code",
        "colab": {}
      },
      "source": [
        ""
      ],
      "execution_count": 0,
      "outputs": []
    },
    {
      "cell_type": "code",
      "metadata": {
        "id": "s94I2ywbsK_E",
        "colab_type": "code",
        "colab": {}
      },
      "source": [
        ""
      ],
      "execution_count": 0,
      "outputs": []
    },
    {
      "cell_type": "code",
      "metadata": {
        "id": "3BGGhR6BsK_G",
        "colab_type": "code",
        "colab": {}
      },
      "source": [
        ""
      ],
      "execution_count": 0,
      "outputs": []
    },
    {
      "cell_type": "code",
      "metadata": {
        "id": "dOy6wEb0sK_J",
        "colab_type": "code",
        "colab": {}
      },
      "source": [
        ""
      ],
      "execution_count": 0,
      "outputs": []
    },
    {
      "cell_type": "code",
      "metadata": {
        "id": "5s9hFCgisK_L",
        "colab_type": "code",
        "colab": {}
      },
      "source": [
        ""
      ],
      "execution_count": 0,
      "outputs": []
    },
    {
      "cell_type": "code",
      "metadata": {
        "id": "Md3up9PfsK_O",
        "colab_type": "code",
        "colab": {}
      },
      "source": [
        ""
      ],
      "execution_count": 0,
      "outputs": []
    },
    {
      "cell_type": "code",
      "metadata": {
        "id": "EcCwI32PsK_Q",
        "colab_type": "code",
        "colab": {}
      },
      "source": [
        ""
      ],
      "execution_count": 0,
      "outputs": []
    },
    {
      "cell_type": "code",
      "metadata": {
        "id": "DG3H5NUfsK_S",
        "colab_type": "code",
        "colab": {}
      },
      "source": [
        ""
      ],
      "execution_count": 0,
      "outputs": []
    },
    {
      "cell_type": "code",
      "metadata": {
        "id": "6WfZLutAsK_V",
        "colab_type": "code",
        "colab": {}
      },
      "source": [
        ""
      ],
      "execution_count": 0,
      "outputs": []
    },
    {
      "cell_type": "code",
      "metadata": {
        "id": "zHNniAIUsK_X",
        "colab_type": "code",
        "colab": {}
      },
      "source": [
        ""
      ],
      "execution_count": 0,
      "outputs": []
    },
    {
      "cell_type": "code",
      "metadata": {
        "id": "SASLGcENsK_a",
        "colab_type": "code",
        "colab": {}
      },
      "source": [
        ""
      ],
      "execution_count": 0,
      "outputs": []
    },
    {
      "cell_type": "code",
      "metadata": {
        "id": "WgOZPKSRsK_d",
        "colab_type": "code",
        "colab": {}
      },
      "source": [
        ""
      ],
      "execution_count": 0,
      "outputs": []
    },
    {
      "cell_type": "code",
      "metadata": {
        "id": "h3-0AETEsK_f",
        "colab_type": "code",
        "colab": {}
      },
      "source": [
        ""
      ],
      "execution_count": 0,
      "outputs": []
    },
    {
      "cell_type": "code",
      "metadata": {
        "id": "mujzpObAsK_k",
        "colab_type": "code",
        "colab": {}
      },
      "source": [
        ""
      ],
      "execution_count": 0,
      "outputs": []
    },
    {
      "cell_type": "code",
      "metadata": {
        "id": "fHighe8CsK_m",
        "colab_type": "code",
        "colab": {}
      },
      "source": [
        ""
      ],
      "execution_count": 0,
      "outputs": []
    },
    {
      "cell_type": "code",
      "metadata": {
        "id": "gMr6e2VjsK_o",
        "colab_type": "code",
        "colab": {}
      },
      "source": [
        ""
      ],
      "execution_count": 0,
      "outputs": []
    },
    {
      "cell_type": "code",
      "metadata": {
        "id": "rVrO9VbesK_q",
        "colab_type": "code",
        "colab": {}
      },
      "source": [
        ""
      ],
      "execution_count": 0,
      "outputs": []
    },
    {
      "cell_type": "code",
      "metadata": {
        "id": "6RJK3d4GsK_s",
        "colab_type": "code",
        "colab": {}
      },
      "source": [
        ""
      ],
      "execution_count": 0,
      "outputs": []
    },
    {
      "cell_type": "code",
      "metadata": {
        "id": "7O_tWWxcsK_v",
        "colab_type": "code",
        "colab": {}
      },
      "source": [
        ""
      ],
      "execution_count": 0,
      "outputs": []
    },
    {
      "cell_type": "code",
      "metadata": {
        "id": "VVw0ss7rsK_x",
        "colab_type": "code",
        "colab": {}
      },
      "source": [
        ""
      ],
      "execution_count": 0,
      "outputs": []
    },
    {
      "cell_type": "code",
      "metadata": {
        "id": "wG49YmD-sK_z",
        "colab_type": "code",
        "colab": {}
      },
      "source": [
        ""
      ],
      "execution_count": 0,
      "outputs": []
    },
    {
      "cell_type": "code",
      "metadata": {
        "id": "6-c1gnGfsK_1",
        "colab_type": "code",
        "colab": {}
      },
      "source": [
        ""
      ],
      "execution_count": 0,
      "outputs": []
    },
    {
      "cell_type": "code",
      "metadata": {
        "id": "UO2onzSysK_3",
        "colab_type": "code",
        "colab": {}
      },
      "source": [
        ""
      ],
      "execution_count": 0,
      "outputs": []
    },
    {
      "cell_type": "code",
      "metadata": {
        "id": "f4sxgPO3sK_6",
        "colab_type": "code",
        "colab": {}
      },
      "source": [
        ""
      ],
      "execution_count": 0,
      "outputs": []
    },
    {
      "cell_type": "code",
      "metadata": {
        "id": "Nn7Kqy25sK_8",
        "colab_type": "code",
        "colab": {}
      },
      "source": [
        ""
      ],
      "execution_count": 0,
      "outputs": []
    },
    {
      "cell_type": "code",
      "metadata": {
        "id": "vMKXZDk7sK_-",
        "colab_type": "code",
        "colab": {}
      },
      "source": [
        ""
      ],
      "execution_count": 0,
      "outputs": []
    },
    {
      "cell_type": "markdown",
      "metadata": {
        "id": "eeVd_-UAsLAA",
        "colab_type": "text"
      },
      "source": [
        "# Lists -- is like an array of heterogenous element "
      ]
    },
    {
      "cell_type": "markdown",
      "metadata": {
        "id": "Pvj4Ema2sLAC",
        "colab_type": "text"
      },
      "source": [
        "# Number of Ways to create a list in Python"
      ]
    },
    {
      "cell_type": "markdown",
      "metadata": {
        "id": "5QAJ1XHYsLAD",
        "colab_type": "text"
      },
      "source": [
        "# 1.) Manually creating a list"
      ]
    },
    {
      "cell_type": "code",
      "metadata": {
        "id": "JplMrJrusLAD",
        "colab_type": "code",
        "colab": {},
        "outputId": "3c8b45d1-fbde-485e-f763-62617682fc56"
      },
      "source": [
        "myList = [1,2,3.5,'Hello']\n",
        "print(myList)\n",
        "print(type(myList))"
      ],
      "execution_count": 0,
      "outputs": [
        {
          "output_type": "stream",
          "text": [
            "[1, 2, 3.5, 'Hello']\n",
            "<class 'list'>\n"
          ],
          "name": "stdout"
        }
      ]
    },
    {
      "cell_type": "markdown",
      "metadata": {
        "id": "8qpgD9rdsLAG",
        "colab_type": "text"
      },
      "source": [
        "# 2.) Using list constructor"
      ]
    },
    {
      "cell_type": "code",
      "metadata": {
        "id": "lQYEBAy8sLAI",
        "colab_type": "code",
        "colab": {},
        "outputId": "e1e7c6b4-edbb-4445-cdce-90c5d2a67b24"
      },
      "source": [
        "l1 = list([1,2,3,4.5])\n",
        "print(type(l1))\n",
        "print(l1)"
      ],
      "execution_count": 0,
      "outputs": [
        {
          "output_type": "stream",
          "text": [
            "<class 'list'>\n",
            "[1, 2, 3, 4.5]\n"
          ],
          "name": "stdout"
        }
      ]
    },
    {
      "cell_type": "markdown",
      "metadata": {
        "id": "HzTg7hfnsLAL",
        "colab_type": "text"
      },
      "source": [
        "# 3.) Using another list"
      ]
    },
    {
      "cell_type": "code",
      "metadata": {
        "id": "BrYeCF78sLAL",
        "colab_type": "code",
        "colab": {},
        "outputId": "b4d2dd78-b024-4ef3-e0ca-bf751817d98c"
      },
      "source": [
        "l2 = l1\n",
        "print(l2)\n",
        "print(type(l2))"
      ],
      "execution_count": 0,
      "outputs": [
        {
          "output_type": "stream",
          "text": [
            "[1, 2, 3, 4.5]\n",
            "<class 'list'>\n"
          ],
          "name": "stdout"
        }
      ]
    },
    {
      "cell_type": "code",
      "metadata": {
        "id": "gHgNExd8sLAN",
        "colab_type": "code",
        "colab": {},
        "outputId": "cd81f11b-6f91-4429-b1e1-88b0822bf160"
      },
      "source": [
        "l3 = list(l2)\n",
        "print(l3)\n",
        "print(type(l3))"
      ],
      "execution_count": 0,
      "outputs": [
        {
          "output_type": "stream",
          "text": [
            "[1, 2, 3, 4.5]\n",
            "<class 'list'>\n"
          ],
          "name": "stdout"
        }
      ]
    },
    {
      "cell_type": "markdown",
      "metadata": {
        "id": "yVpJYsCXsLAQ",
        "colab_type": "text"
      },
      "source": [
        "# 4.) By extending Or Adding a list "
      ]
    },
    {
      "cell_type": "code",
      "metadata": {
        "id": "tU9Gv6bnsLAS",
        "colab_type": "code",
        "colab": {},
        "outputId": "02b96ada-41cd-45c9-f466-ab854a0139b9"
      },
      "source": [
        "l3 = l3 + l2\n",
        "print(type(l2))\n",
        "print(l3)"
      ],
      "execution_count": 0,
      "outputs": [
        {
          "output_type": "stream",
          "text": [
            "<class 'list'>\n",
            "[1, 2, 3, 4.5, 1, 2, 3, 4.5]\n"
          ],
          "name": "stdout"
        }
      ]
    },
    {
      "cell_type": "code",
      "metadata": {
        "id": "b_YKh8tHsLAU",
        "colab_type": "code",
        "colab": {},
        "outputId": "33a21eca-baf6-43a8-f41a-67765a075aac"
      },
      "source": [
        "l3.extend(l2)\n",
        "print(l3)\n",
        "print(type(l3))"
      ],
      "execution_count": 0,
      "outputs": [
        {
          "output_type": "stream",
          "text": [
            "[1, 2, 3, 4.5, 1, 2, 3, 4.5, 1, 2, 3, 4.5]\n",
            "<class 'list'>\n"
          ],
          "name": "stdout"
        }
      ]
    },
    {
      "cell_type": "markdown",
      "metadata": {
        "id": "F3YCj4NcsLAW",
        "colab_type": "text"
      },
      "source": [
        "# 5.) Using for loop to create a list"
      ]
    },
    {
      "cell_type": "code",
      "metadata": {
        "id": "D78Ezi7tsLAX",
        "colab_type": "code",
        "colab": {},
        "outputId": "513026c1-e042-407c-b15b-20af50343ce9"
      },
      "source": [
        "# creating a list of square of the numbers ranging from 1 to 5\n",
        "\n",
        "l4 = [x**2 for x in range(1,6)]\n",
        "print(type(l4))\n",
        "print(l4)"
      ],
      "execution_count": 0,
      "outputs": [
        {
          "output_type": "stream",
          "text": [
            "<class 'list'>\n",
            "[1, 4, 9, 16, 25]\n"
          ],
          "name": "stdout"
        }
      ]
    },
    {
      "cell_type": "code",
      "metadata": {
        "id": "9MW9BguYsLAZ",
        "colab_type": "code",
        "colab": {},
        "outputId": "b8cb75e7-57f6-473e-ea4c-a9643fdee4a7"
      },
      "source": [
        "l5 = [x*x for x in range(6)]\n",
        "print(type(l5))\n",
        "print(l5)"
      ],
      "execution_count": 0,
      "outputs": [
        {
          "output_type": "stream",
          "text": [
            "<class 'list'>\n",
            "[0, 1, 4, 9, 16, 25]\n"
          ],
          "name": "stdout"
        }
      ]
    },
    {
      "cell_type": "markdown",
      "metadata": {
        "id": "qBYZSjmYsLAd",
        "colab_type": "text"
      },
      "source": [
        "# List Slicing Operation "
      ]
    },
    {
      "cell_type": "code",
      "metadata": {
        "id": "VAKItcAjsLAe",
        "colab_type": "code",
        "colab": {},
        "outputId": "529366c5-79f3-45c1-c8f9-b177ade4a598"
      },
      "source": [
        "l4[:]"
      ],
      "execution_count": 0,
      "outputs": [
        {
          "output_type": "execute_result",
          "data": {
            "text/plain": [
              "[1, 4, 9, 16, 25]"
            ]
          },
          "metadata": {
            "tags": []
          },
          "execution_count": 12
        }
      ]
    },
    {
      "cell_type": "code",
      "metadata": {
        "id": "2x3ebpCHsLAh",
        "colab_type": "code",
        "colab": {},
        "outputId": "3dc23084-19b1-41c4-e7b7-cca6fe78507d"
      },
      "source": [
        "l4[2:]"
      ],
      "execution_count": 0,
      "outputs": [
        {
          "output_type": "execute_result",
          "data": {
            "text/plain": [
              "[9, 16, 25]"
            ]
          },
          "metadata": {
            "tags": []
          },
          "execution_count": 14
        }
      ]
    },
    {
      "cell_type": "code",
      "metadata": {
        "id": "5p-VS94YsLAj",
        "colab_type": "code",
        "colab": {},
        "outputId": "97c940e5-fcc6-40fe-cd44-31501b796e4d"
      },
      "source": [
        "l4[:2]"
      ],
      "execution_count": 0,
      "outputs": [
        {
          "output_type": "execute_result",
          "data": {
            "text/plain": [
              "[1, 4]"
            ]
          },
          "metadata": {
            "tags": []
          },
          "execution_count": 15
        }
      ]
    },
    {
      "cell_type": "code",
      "metadata": {
        "id": "ktMpI3i1sLAn",
        "colab_type": "code",
        "colab": {},
        "outputId": "7f4493e8-094a-42c7-d3ea-b999b5dde5d8"
      },
      "source": [
        "l4[-1]"
      ],
      "execution_count": 0,
      "outputs": [
        {
          "output_type": "execute_result",
          "data": {
            "text/plain": [
              "25"
            ]
          },
          "metadata": {
            "tags": []
          },
          "execution_count": 16
        }
      ]
    },
    {
      "cell_type": "code",
      "metadata": {
        "id": "OT-SmWuqsLAp",
        "colab_type": "code",
        "colab": {},
        "outputId": "0017dd4a-12be-48ee-91b7-5821bd9b6ff6"
      },
      "source": [
        "l4[-3:]"
      ],
      "execution_count": 0,
      "outputs": [
        {
          "output_type": "execute_result",
          "data": {
            "text/plain": [
              "[9, 16, 25]"
            ]
          },
          "metadata": {
            "tags": []
          },
          "execution_count": 17
        }
      ]
    },
    {
      "cell_type": "markdown",
      "metadata": {
        "id": "_mmrMcFIsLAs",
        "colab_type": "text"
      },
      "source": [
        "# Insertion and deletion in the list"
      ]
    },
    {
      "cell_type": "markdown",
      "metadata": {
        "id": "E953sDpZsLAt",
        "colab_type": "text"
      },
      "source": [
        "# For insertion opertion we have following methods:-->\n",
        "\n",
        "# 1.)append()\n",
        "# 2.)insert()\n",
        "\n",
        "# For deletiuon operation we have following methods:--->\n",
        "\n",
        "# 1.)remove()\n",
        "# 2.)pop()\n",
        "# 3.)del\n"
      ]
    },
    {
      "cell_type": "code",
      "metadata": {
        "id": "yIfgLgqlsLAu",
        "colab_type": "code",
        "colab": {},
        "outputId": "815b531e-38db-4b53-b813-6250abc119e2"
      },
      "source": [
        "l = [1,2]\n",
        "l.append(3)\n",
        "print(l)\n",
        "l.append([4.5,5.5])\n",
        "print(l)"
      ],
      "execution_count": 0,
      "outputs": [
        {
          "output_type": "stream",
          "text": [
            "[1, 2, 3]\n",
            "[1, 2, 3, [4.5, 5.5]]\n"
          ],
          "name": "stdout"
        }
      ]
    },
    {
      "cell_type": "code",
      "metadata": {
        "id": "A0D4Ycf_sLAv",
        "colab_type": "code",
        "colab": {},
        "outputId": "592bbc0b-a52d-463d-ee5b-497235376869"
      },
      "source": [
        "print(l)"
      ],
      "execution_count": 0,
      "outputs": [
        {
          "output_type": "stream",
          "text": [
            "[1, 2, 3, [4.5, 5.5]]\n"
          ],
          "name": "stdout"
        }
      ]
    },
    {
      "cell_type": "code",
      "metadata": {
        "id": "ePqxqypDsLAx",
        "colab_type": "code",
        "colab": {},
        "outputId": "25659d85-a1cb-4808-d5c1-1a03c51c9ca8"
      },
      "source": [
        "l.insert(2,20)\n",
        "print(l)"
      ],
      "execution_count": 0,
      "outputs": [
        {
          "output_type": "stream",
          "text": [
            "[1, 2, 20, 3, [4.5, 5.5]]\n"
          ],
          "name": "stdout"
        }
      ]
    },
    {
      "cell_type": "markdown",
      "metadata": {
        "id": "QUbazB5QsLAz",
        "colab_type": "text"
      },
      "source": [
        "# in case of extending of list your values goes as an element to the list but when we try to append the list of values then in that case it goes as single list element instead of single value...."
      ]
    },
    {
      "cell_type": "code",
      "metadata": {
        "id": "TKzxF9xesLA0",
        "colab_type": "code",
        "colab": {},
        "outputId": "c40732c2-2a71-49f2-a830-845a1a0a5774"
      },
      "source": [
        "l += [4,5,6]\n",
        "print(l)"
      ],
      "execution_count": 0,
      "outputs": [
        {
          "output_type": "stream",
          "text": [
            "[1, 2, 3, [4.5, 5.5], 4, 5, 6]\n"
          ],
          "name": "stdout"
        }
      ]
    },
    {
      "cell_type": "code",
      "metadata": {
        "id": "Wy1DG2CYsLA1",
        "colab_type": "code",
        "colab": {},
        "outputId": "58e82821-16af-4027-9348-d1b87936db51"
      },
      "source": [
        "print(l[3][1])"
      ],
      "execution_count": 0,
      "outputs": [
        {
          "output_type": "stream",
          "text": [
            "5.5\n"
          ],
          "name": "stdout"
        }
      ]
    },
    {
      "cell_type": "code",
      "metadata": {
        "id": "qvrKVxTQsLA4",
        "colab_type": "code",
        "colab": {},
        "outputId": "32181e19-4888-47a9-d30d-007e6121518e"
      },
      "source": [
        "l.remove(2)\n",
        "print(l)"
      ],
      "execution_count": 0,
      "outputs": [
        {
          "output_type": "stream",
          "text": [
            "[1, 3, [4.5, 5.5], 4, 5, 6]\n"
          ],
          "name": "stdout"
        }
      ]
    },
    {
      "cell_type": "code",
      "metadata": {
        "id": "dK5z9IiJsLA7",
        "colab_type": "code",
        "colab": {},
        "outputId": "077485bc-70eb-4044-c3b9-11e61b2d1e73"
      },
      "source": [
        "del l[0]\n",
        "print(l)"
      ],
      "execution_count": 0,
      "outputs": [
        {
          "output_type": "stream",
          "text": [
            "[3, [4.5, 5.5], 4, 5, 6]\n"
          ],
          "name": "stdout"
        }
      ]
    },
    {
      "cell_type": "code",
      "metadata": {
        "id": "U6Pl4d8esLA9",
        "colab_type": "code",
        "colab": {},
        "outputId": "0821adba-f625-477e-ac36-eb5c6232e25f"
      },
      "source": [
        "print(l.pop())\n",
        "print(l)"
      ],
      "execution_count": 0,
      "outputs": [
        {
          "output_type": "stream",
          "text": [
            "6\n",
            "[3, [4.5, 5.5], 4, 5]\n"
          ],
          "name": "stdout"
        }
      ]
    },
    {
      "cell_type": "code",
      "metadata": {
        "id": "DBDR95YssLA_",
        "colab_type": "code",
        "colab": {},
        "outputId": "7f1d5a99-d822-4505-c9fa-3d28d6db6a05"
      },
      "source": [
        "l = l*4\n",
        "print(l)"
      ],
      "execution_count": 0,
      "outputs": [
        {
          "output_type": "stream",
          "text": [
            "[3, [4.5, 5.5], 4, 5, 3, [4.5, 5.5], 4, 5, 3, [4.5, 5.5], 4, 5, 3, [4.5, 5.5], 4, 5]\n"
          ],
          "name": "stdout"
        }
      ]
    },
    {
      "cell_type": "code",
      "metadata": {
        "id": "lAHDa_QssLBB",
        "colab_type": "code",
        "colab": {},
        "outputId": "6a32ad73-d792-433c-ecf3-47ffa184aab7"
      },
      "source": [
        "l = ['Mango','Apple','Guava',80]\n",
        "print(80 in l)"
      ],
      "execution_count": 0,
      "outputs": [
        {
          "output_type": "stream",
          "text": [
            "True\n"
          ],
          "name": "stdout"
        }
      ]
    },
    {
      "cell_type": "code",
      "metadata": {
        "id": "8TzfU_a7sLBD",
        "colab_type": "code",
        "colab": {}
      },
      "source": [
        ""
      ],
      "execution_count": 0,
      "outputs": []
    },
    {
      "cell_type": "code",
      "metadata": {
        "id": "ncH-4I9WsLBE",
        "colab_type": "code",
        "colab": {}
      },
      "source": [
        ""
      ],
      "execution_count": 0,
      "outputs": []
    },
    {
      "cell_type": "code",
      "metadata": {
        "id": "SVeZ6k2jsLBF",
        "colab_type": "code",
        "colab": {}
      },
      "source": [
        ""
      ],
      "execution_count": 0,
      "outputs": []
    },
    {
      "cell_type": "code",
      "metadata": {
        "id": "cSCU_wArsLBH",
        "colab_type": "code",
        "colab": {}
      },
      "source": [
        ""
      ],
      "execution_count": 0,
      "outputs": []
    },
    {
      "cell_type": "code",
      "metadata": {
        "id": "gskENfFMsLBJ",
        "colab_type": "code",
        "colab": {}
      },
      "source": [
        ""
      ],
      "execution_count": 0,
      "outputs": []
    },
    {
      "cell_type": "code",
      "metadata": {
        "id": "LJP-CCDwsLBL",
        "colab_type": "code",
        "colab": {}
      },
      "source": [
        ""
      ],
      "execution_count": 0,
      "outputs": []
    },
    {
      "cell_type": "code",
      "metadata": {
        "id": "7jEaf5PbsLBO",
        "colab_type": "code",
        "colab": {}
      },
      "source": [
        ""
      ],
      "execution_count": 0,
      "outputs": []
    },
    {
      "cell_type": "code",
      "metadata": {
        "id": "6pPAmcTssLBQ",
        "colab_type": "code",
        "colab": {}
      },
      "source": [
        ""
      ],
      "execution_count": 0,
      "outputs": []
    },
    {
      "cell_type": "code",
      "metadata": {
        "id": "SmOtEDiDsLBU",
        "colab_type": "code",
        "colab": {}
      },
      "source": [
        ""
      ],
      "execution_count": 0,
      "outputs": []
    },
    {
      "cell_type": "code",
      "metadata": {
        "id": "ZWNxoPHksLBV",
        "colab_type": "code",
        "colab": {}
      },
      "source": [
        ""
      ],
      "execution_count": 0,
      "outputs": []
    }
  ]
}